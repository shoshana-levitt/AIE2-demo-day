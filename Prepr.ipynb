{
  "cells": [
    {
      "cell_type": "markdown",
      "metadata": {
        "id": "uhrFboY8odSQ"
      },
      "source": [
        "# AI MAKERSPACE . COHORT 2 . DEMO DAY . PREPR"
      ]
    },
    {
      "cell_type": "markdown",
      "metadata": {
        "id": "TLgaaw_pHwb5"
      },
      "source": [
        "### IGNORE TO BE CLEANED UP LATER\n",
        "This is the ..."
      ]
    },
    {
      "cell_type": "markdown",
      "metadata": {
        "id": "d8YSO5hLoQgq"
      },
      "source": [
        "### Step 1: Dependencies and Initialization"
      ]
    },
    {
      "cell_type": "markdown",
      "metadata": {
        "id": "lGcTrNi0Ht0d"
      },
      "source": [
        "The basic setup and getting the OpenAI key to use their LLM and embeddings model."
      ]
    },
    {
      "cell_type": "code",
      "execution_count": 26,
      "metadata": {
        "id": "nCC2AR-Q0m0x"
      },
      "outputs": [
        {
          "name": "stdout",
          "output_type": "stream",
          "text": [
            "^C\n",
            "\u001b[31mERROR: Operation cancelled by user\u001b[0m\u001b[31m\n",
            "\u001b[0m"
          ]
        }
      ],
      "source": [
        "!pip install -qU langchain langchain-core langchain-community langchain-openai"
      ]
    },
    {
      "cell_type": "code",
      "execution_count": null,
      "metadata": {
        "id": "76XeYI9P1OXO"
      },
      "outputs": [],
      "source": [
        "!pip install -qU qdrant-client"
      ]
    },
    {
      "cell_type": "code",
      "execution_count": null,
      "metadata": {
        "id": "K5qIUrFuENrS"
      },
      "outputs": [],
      "source": [
        "!pip install -qU tiktoken pymupdf"
      ]
    },
    {
      "cell_type": "code",
      "execution_count": null,
      "metadata": {},
      "outputs": [],
      "source": [
        "!pip install -qU ragas pandas"
      ]
    },
    {
      "cell_type": "code",
      "execution_count": null,
      "metadata": {
        "colab": {
          "base_uri": "https://localhost:8080/"
        },
        "id": "7pKAfycq73wE",
        "outputId": "c6145652-687f-4ee9-dee6-21bba8af6c9e"
      },
      "outputs": [],
      "source": [
        "import os\n",
        "import getpass\n",
        "\n",
        "os.environ[\"OPENAI_API_KEY\"] = getpass.getpass(\"OpenAI API Key:\")"
      ]
    },
    {
      "cell_type": "markdown",
      "metadata": {
        "id": "pBErqPRgxgZR"
      },
      "source": [
        "### Step 2: Get the Data - PDF file on the Internet"
      ]
    },
    {
      "cell_type": "code",
      "execution_count": null,
      "metadata": {
        "id": "-AHA9L3Jxo3r"
      },
      "outputs": [],
      "source": [
        "#from langchain.document_loaders import PyMuPDFLoader\n",
        "\n",
        "#docs = PyMuPDFLoader(\"https://d18rn0p25nwr6d.cloudfront.net/CIK-0001326801/c7318154-f6ae-4866-89fa-f0c589f2ee3d.pdf\").load()\n",
        "\n",
        "from langchain.document_loaders import PyMuPDFLoader\n",
        "\n",
        "# Adjust the URL to the direct download format\n",
        "file_id = \"1JeA-w4kvbI3GHk9Dh_j19_Q0JUDE7hse\"\n",
        "direct_url = f\"https://drive.google.com/uc?export=download&id={file_id}\"\n",
        "\n",
        "# Now load the document using the direct URL\n",
        "docs = PyMuPDFLoader(direct_url).load()\n"
      ]
    },
    {
      "cell_type": "markdown",
      "metadata": {
        "id": "uH7ZPVJLx6Cn"
      },
      "source": [
        "### Step 3: Chunking the document\n",
        "Chunking is breaking the document up into blocks of text that will be use by the retriever in our RAG pipeline.  We will be using the recursive character text splitter with a chunk size of 200, and no overlap.  Research for this type of app suggested a size of 500 and an overap of 50, but that did not fair well in answering specific questions."
      ]
    },
    {
      "cell_type": "code",
      "execution_count": null,
      "metadata": {
        "id": "nLW9AfDKfVHn"
      },
      "outputs": [],
      "source": [
        "import tiktoken\n",
        "\n",
        "def tiktoken_len(text):\n",
        "    tokens = tiktoken.encoding_for_model(\"gpt-3.5-turbo\").encode(\n",
        "        text,\n",
        "    )\n",
        "    return len(tokens)"
      ]
    },
    {
      "cell_type": "code",
      "execution_count": null,
      "metadata": {
        "id": "SzolG1FLx2f_"
      },
      "outputs": [],
      "source": [
        "from langchain.text_splitter import RecursiveCharacterTextSplitter\n",
        "\n",
        "text_splitter = RecursiveCharacterTextSplitter(\n",
        "    chunk_size = 500,\n",
        "    chunk_overlap = 50,\n",
        "    length_function = tiktoken_len,\n",
        ")\n",
        "\n",
        "split_chunks = text_splitter.split_documents(docs)"
      ]
    },
    {
      "cell_type": "markdown",
      "metadata": {
        "id": "kocCe4zLy5qT"
      },
      "source": [
        "### c) Step 4: Store chunks in a Qdrant vector storage using OpenAI embeddings\n",
        "Qdrant, the vector database will be used.  It will be configured to use memory and will have a name of MetaFin.  LangChain has simple integration."
      ]
    },
    {
      "cell_type": "code",
      "execution_count": null,
      "metadata": {
        "id": "quNjOLWspOVN"
      },
      "outputs": [],
      "source": [
        "from langchain_openai.embeddings import OpenAIEmbeddings\n",
        "\n",
        "embedding_model = OpenAIEmbeddings(model=\"text-embedding-3-small\")"
      ]
    },
    {
      "cell_type": "code",
      "execution_count": null,
      "metadata": {
        "id": "7M0X1eVlWPFf"
      },
      "outputs": [],
      "source": [
        "from langchain_community.vectorstores import Qdrant\n",
        "\n",
        "qdrant_vectorstore = Qdrant.from_documents(\n",
        "    split_chunks,\n",
        "    embedding_model,\n",
        "    location=\":memory:\",\n",
        "    collection_name=\"MetaFin\",\n",
        ")"
      ]
    },
    {
      "cell_type": "markdown",
      "metadata": {
        "id": "d-NDvjfzXhVp"
      },
      "source": [
        "### Step 5: Set up Retriever\n",
        "Very easy to set up the retriever."
      ]
    },
    {
      "cell_type": "code",
      "execution_count": null,
      "metadata": {
        "id": "Edjx19YBXavZ"
      },
      "outputs": [],
      "source": [
        "qdrant_retriever = qdrant_vectorstore.as_retriever()"
      ]
    },
    {
      "cell_type": "markdown",
      "metadata": {
        "id": "xMhcU37dzV5k"
      },
      "source": [
        "### Step 6: Setup LangChain RAG pipeline using OpenAI 3.5 turbo LLM\n",
        "We will be using Open AI 3.5 turbo as the LLM.  The prompt template is simple and provides basic guidance on what is expected as a financial advisor.  The heart of this RAG pipeline is the LangChain:\n",
        "[query]->[retriever]->[prompt template]->[LLM]->[inference]\n",
        "which can easily be integrated into a chatbot web application.\n"
      ]
    },
    {
      "cell_type": "code",
      "execution_count": null,
      "metadata": {
        "id": "3Uj6SorxMj8e"
      },
      "outputs": [],
      "source": [
        "from langchain_openai import ChatOpenAI\n",
        "\n",
        "openai_chat_model = ChatOpenAI(model=\"gpt-3.5-turbo\")"
      ]
    },
    {
      "cell_type": "code",
      "execution_count": null,
      "metadata": {
        "id": "TE5tick_YPJj"
      },
      "outputs": [],
      "source": [
        "from langchain_core.prompts import ChatPromptTemplate\n",
        "\n",
        "RAG_PROMPT = \"\"\"\n",
        "CONTEXT:\n",
        "{context}\n",
        "\n",
        "QUERY:\n",
        "{question}\n",
        "\n",
        "Before proceeding to answer about which conference sessions the user should attend, be sure to ask them what key topics they are hoping to learn from the conference, and if there are any specific sessions they are keen on attending. Use the provided context to answer the user's query. You are a professional personal assistant for an executive professional in a high tech company. You help them plan for events and meetings.\n",
        "You always review the provided event information. You can look up dates and location where event sessions take place from the document. If you do not know the answer, or cannot answer, please respond with \"Insufficient data for further analysis, please try again\". For each session you suggest, include bullet points with the session title, speaker, company, topic, AI industry relevance, details of their work in AI, main point likely to be made, and three questions to ask the speaker. You end your successful responses with \"Is there anything else that I can help you with?\". If the user says NO, or any other negative response, then you ask \"How did I do?\" >>\n",
        "\"\"\"\n",
        "\n",
        "rag_prompt = ChatPromptTemplate.from_template(RAG_PROMPT)"
      ]
    },
    {
      "cell_type": "code",
      "execution_count": null,
      "metadata": {
        "id": "VnGthXpzzo-R"
      },
      "outputs": [],
      "source": [
        "from operator import itemgetter\n",
        "from langchain.schema.output_parser import StrOutputParser\n",
        "from langchain.schema.runnable import RunnablePassthrough\n",
        "\n",
        "retrieval_augmented_qa_chain = (\n",
        "    {\"context\": itemgetter(\"question\") | qdrant_retriever, \"question\": itemgetter(\"question\")}\n",
        "    | RunnablePassthrough.assign(context=itemgetter(\"context\"))\n",
        "    | {\"response\": rag_prompt | openai_chat_model, \"context\": itemgetter(\"context\")}\n",
        ")"
      ]
    },
    {
      "cell_type": "markdown",
      "metadata": {
        "id": "IPy5iPvMm7w2"
      },
      "source": [
        "### Q & A Ready\n",
        "OK. Lets try some questions."
      ]
    },
    {
      "cell_type": "code",
      "execution_count": null,
      "metadata": {
        "id": "JSDyVefDaue4"
      },
      "outputs": [],
      "source": [
        "chainlit_question = \"What session should I attend if I'm interested in Amazon Alexa?\"\n",
        "response = retrieval_augmented_qa_chain.invoke({\"question\" : chainlit_question })"
      ]
    },
    {
      "cell_type": "code",
      "execution_count": null,
      "metadata": {
        "colab": {
          "base_uri": "https://localhost:8080/"
        },
        "id": "hMGm9IE0pe91",
        "outputId": "cf891a80-1a9c-4b9d-9b99-02aecac9a9d3"
      },
      "outputs": [
        {
          "name": "stdout",
          "output_type": "stream",
          "text": [
            "Based on the provided context, you should attend the following session related to Amazon Alexa:\n",
            "\n",
            "- Session Title: [Virtual Exclusive] PRO TALK: Alexa on the Go: Building Location Aware Voice Experiences for Alexa\n",
            "- Speaker: Craig Walls\n",
            "- Company: VMware\n",
            "- Topic: Building location-aware voice experiences for Amazon Alexa\n",
            "- AI Industry Relevance: This session is relevant for voice application developers looking to create innovative voice experiences using Alexa.\n",
            "- Details of Their Work in AI: Craig Walls is an engineer at VMware with expertise in developing applications for mobile Alexa devices.\n",
            "- Main Point Likely to be Made: The session will focus on creating Alexa applications that can leverage location data to provide relevant information to users on-the-go.\n",
            "- Questions to Ask the Speaker:\n",
            "  1. How do you ensure user privacy and security when accessing location data for Alexa applications?\n",
            "  2. What are the key challenges in developing voice experiences for mobile Alexa devices compared to stationary devices?\n",
            "  3. Can you provide examples of successful Alexa applications that have effectively used location awareness?\n",
            "\n",
            "Is there anything else that I can help you with?\n"
          ]
        }
      ],
      "source": [
        "chainlin_answer = response[\"response\"].content\n",
        "print(chainlin_answer)"
      ]
    },
    {
      "cell_type": "code",
      "execution_count": null,
      "metadata": {
        "id": "6CxkoQnB2PGR"
      },
      "outputs": [],
      "source": [
        "chainlit_question = \"Are any of the speakers past or current employees of MongoDB?\"\n",
        "response = retrieval_augmented_qa_chain.invoke({\"question\" : chainlit_question })"
      ]
    },
    {
      "cell_type": "code",
      "execution_count": null,
      "metadata": {
        "colab": {
          "base_uri": "https://localhost:8080/"
        },
        "id": "1KF6Wlbg2TBe",
        "outputId": "58939bb1-ba10-450a-82d2-6d0631137385"
      },
      "outputs": [
        {
          "name": "stdout",
          "output_type": "stream",
          "text": [
            "Yes, Dave Nielsen is a past and current employee of MongoDB. \n",
            "\n",
            "Is there anything else that I can help you with?\n"
          ]
        }
      ],
      "source": [
        "chainlin_answer = response[\"response\"].content\n",
        "print(chainlin_answer)"
      ]
    },
    {
      "cell_type": "code",
      "execution_count": null,
      "metadata": {
        "colab": {
          "base_uri": "https://localhost:8080/"
        },
        "id": "FSZFdCM5LFoq",
        "outputId": "e02a113c-14dc-4f4d-8603-97f8628bd103"
      },
      "outputs": [
        {
          "name": "stdout",
          "output_type": "stream",
          "text": [
            "page_content='Dave Nielsen \\nHead of Community, MongoDB \\nDave Nielsen is the Head of Community at MongoDB. Prior to that Dave was \\nHead of Community at Harness, Traceable, Redis Labs, Strikeiron & PayPal. \\nHe also co-founded CloudCamp \\n \\n \\n \\nWednesday February 21, 2024 5:00pm - 5:50pm PST  \\nPRO Stage A  \\n  AI & Machine Learning Conference  \\n• \\nCertificates AI & ML Certificate \\n• \\nTalk Type PRO WORKSHOP \\n• \\nTrack or Conference AI & Machine Learning Conference, Enterprise Summit \\n• \\nIn-Person/Virtual In Person \\n5:00pm PST \\nPRO WORKSHOP: Workflows of Highly Functional App & Data Engineering \\nTeams  \\nDavide Mauri, Microsoft, Principal Product Manager \\nJerry Nixon, Microsoft, Engineer \\n \\nHow does a highly functional development team manage enterprise data \\nengineering? They focus on the core principles of Schema Management, \\nStandards Enforcement, Database Testing, and Automated Incremental \\nDeployment. Microsoft brings an agonizing menu of choices to architects \\nand engineers; they can be a challenge to wade through. This session can \\nhelp. Let’s review how some of the world’s largest and most critical app & \\ndata engineering teams handle change management, observability, and \\nquality at enterprise scale. \\n \\nGoals: • Understand how enterprise teams manage schema control, \\nincluding versioning, migrations, and updates, to ensure data consistency \\nacross all environments. • Explore how enterprise teams ensure engineering' metadata={'source': 'https://drive.google.com/uc?export=download&id=1JeA-w4kvbI3GHk9Dh_j19_Q0JUDE7hse', 'file_path': 'https://drive.google.com/uc?export=download&id=1JeA-w4kvbI3GHk9Dh_j19_Q0JUDE7hse', 'page': 58, 'total_pages': 832, 'format': 'PDF 1.4', 'title': '', 'author': '', 'subject': '', 'keywords': '', 'creator': '', 'producer': 'macOS Version 14.2.1 (Build 23C71) Quartz PDFContext', 'creationDate': \"D:20240511180050Z00'00'\", 'modDate': \"D:20240511180050Z00'00'\", 'trapped': '', '_id': '900646375e57486fa6b652dee751b29a', '_collection_name': 'MetaFin'}\n",
            "page_content='Speakers  \\n \\nNoam Honig \\nCreator, Firefly Migration & Remult \\nCoder, open-sourcerer, developer experience enthusiast, software architect, \\nand entrepreneur. At work, I oversee and consult in enterprise legacy \\nsystems modernization for fortune 500s to small businesses. Outside work I \\nlove helping NGOs as a full-stack developer and mentor.' metadata={'source': 'https://drive.google.com/uc?export=download&id=1JeA-w4kvbI3GHk9Dh_j19_Q0JUDE7hse', 'file_path': 'https://drive.google.com/uc?export=download&id=1JeA-w4kvbI3GHk9Dh_j19_Q0JUDE7hse', 'page': 731, 'total_pages': 832, 'format': 'PDF 1.4', 'title': '', 'author': '', 'subject': '', 'keywords': '', 'creator': '', 'producer': 'macOS Version 14.2.1 (Build 23C71) Quartz PDFContext', 'creationDate': \"D:20240511180050Z00'00'\", 'modDate': \"D:20240511180050Z00'00'\", 'trapped': '', '_id': 'ba7fdc0f251544dfae42ec8e82455d3b', '_collection_name': 'MetaFin'}\n",
            "page_content='Speakers  \\n \\nTamar Bercovici \\nVP of Engineering, Box \\nTamar Bercovici is a VP of Engineering at Box where she leads the Core \\nPlatform team in scaling the foundational platform for the Box Content \\nCloud. Tamar also runs the annual Box Hackathon and is a frequent invited \\nspeaker at leading technology conferences like Velocity, @Scale... Read More \\n→' metadata={'source': 'https://drive.google.com/uc?export=download&id=1JeA-w4kvbI3GHk9Dh_j19_Q0JUDE7hse', 'file_path': 'https://drive.google.com/uc?export=download&id=1JeA-w4kvbI3GHk9Dh_j19_Q0JUDE7hse', 'page': 524, 'total_pages': 832, 'format': 'PDF 1.4', 'title': '', 'author': '', 'subject': '', 'keywords': '', 'creator': '', 'producer': 'macOS Version 14.2.1 (Build 23C71) Quartz PDFContext', 'creationDate': \"D:20240511180050Z00'00'\", 'modDate': \"D:20240511180050Z00'00'\", 'trapped': '', '_id': '3a0c41f2dac74017a99776df7eeea46c', '_collection_name': 'MetaFin'}\n",
            "page_content='Dave Nielsen \\nHead of Community, MongoDB \\nDave Nielsen is the Head of Community at MongoDB. Prior to that Dave was \\nHead of Community at Harness, Traceable, Redis Labs, Strikeiron & PayPal. \\nHe also co-founded CloudCamp \\n \\n \\n \\nTuesday February 27, 2024 2:00pm - 2:50pm PST  \\nVIRTUAL PRO Stage A https://app.events.ringcentral.com/events/developerweek-2024/sessions  \\n  AI & Machine Learning Conference  \\n• \\nCertificates AI & ML Certificate \\n• \\nTalk Type PRO WORKSHOP \\n• \\nTrack or Conference AI & Machine Learning Conference, VIRTUAL, Enterprise Summit \\n• \\nIn-Person/Virtual Virtual \\n2:00pm PST \\n[Virtual] PRO WORKSHOP: Your Frontend Is Not Your Backend: Using Data \\nTransfer Objects for Your Own Sanity  \\nKaitlyn Concilio, 8th Light, Developer \\n \\nThe backend developers only want to name their variables_like_this, while \\nyou, a frontender, are all about that camelCaseLife. But you’re not doomed \\nas aCapulet to war with them forever, so don’t reach for that poison just yet. \\n \\nData Transfer Objects are here to save the day. Whether you’re looking to \\nmaintain naming convention consistency or convert between similar data \\ntypes that don’t quite match up (without either sacrificing type safety or \\nbloating the scope of your component), DTO is the way to go. \\n \\nWe’ll talk about the conceptual underpinnings and share examples of when \\nthey can be best put to use. Though we’re talking Typescript, these concepts \\nare applicable to any typed language.' metadata={'source': 'https://drive.google.com/uc?export=download&id=1JeA-w4kvbI3GHk9Dh_j19_Q0JUDE7hse', 'file_path': 'https://drive.google.com/uc?export=download&id=1JeA-w4kvbI3GHk9Dh_j19_Q0JUDE7hse', 'page': 514, 'total_pages': 832, 'format': 'PDF 1.4', 'title': '', 'author': '', 'subject': '', 'keywords': '', 'creator': '', 'producer': 'macOS Version 14.2.1 (Build 23C71) Quartz PDFContext', 'creationDate': \"D:20240511180050Z00'00'\", 'modDate': \"D:20240511180050Z00'00'\", 'trapped': '', '_id': '289a085e78a749dd982464d05bbf776c', '_collection_name': 'MetaFin'}\n"
          ]
        }
      ],
      "source": [
        "for context in response[\"context\"]:\n",
        "  print(context)"
      ]
    },
    {
      "cell_type": "code",
      "execution_count": null,
      "metadata": {
        "id": "HOd2nJKZnsty"
      },
      "outputs": [],
      "source": [
        "response = retrieval_augmented_qa_chain.invoke({\"question\" : \"What is the conference about?\"})"
      ]
    },
    {
      "cell_type": "code",
      "execution_count": null,
      "metadata": {
        "colab": {
          "base_uri": "https://localhost:8080/"
        },
        "id": "TmLCKNGZLTh6",
        "outputId": "bf6f7317-6162-4fe5-e8dd-0fd0363e8af7"
      },
      "outputs": [
        {
          "name": "stdout",
          "output_type": "stream",
          "text": [
            "The conference is about driving software product design to new heights of innovation. It focuses on various key topics and best practices for software product design, including:\n",
            "\n",
            "- Innovation and out-of-the-box thinking among software designers and developers.\n",
            "- User-Centered Design strategies for product development.\n",
            "- Agile and Lean Methodologies for streamlined development processes.\n",
            "- Balancing creativity with practicality in product design.\n",
            "- Cross-Functional Collaboration between designers, developers, and stakeholders.\n",
            "- Embracing Emerging Technologies such as AI, blockchain, and IoT in product design.\n",
            "- Ethical Considerations in software product design.\n",
            "- Measuring Impact of innovative software product design on businesses and end-users.\n",
            "\n",
            "Is there anything else that I can help you with?\n"
          ]
        }
      ],
      "source": [
        "chainlin_answer = response[\"response\"].content\n",
        "print(chainlin_answer)"
      ]
    },
    {
      "cell_type": "code",
      "execution_count": null,
      "metadata": {
        "id": "lOa4F7mQHEVo"
      },
      "outputs": [],
      "source": [
        "response = retrieval_augmented_qa_chain.invoke({\"question\" : \"Who will be at the conference that I know?\"})"
      ]
    },
    {
      "cell_type": "code",
      "execution_count": null,
      "metadata": {
        "colab": {
          "base_uri": "https://localhost:8080/"
        },
        "id": "UpFdrpsIHFmS",
        "outputId": "1e83daff-5a0e-46f7-e599-3e4a01de025f"
      },
      "outputs": [
        {
          "name": "stdout",
          "output_type": "stream",
          "text": [
            "Based on the provided context, the following individuals will be at the conference that you may know:\n",
            "\n",
            "- David Nicholas\n",
            "  - Role: Software Consultant, Bitovi\n",
            "  - Expertise: TypeScript and React\n",
            "  - Industries: Blockchain, E-commerce, Medical Supply Manufacturing\n",
            "\n",
            "- Rizèl Scarlett\n",
            "  - Role: Developer Advocate at Block\n",
            "  - Topic: The Beginner's Guide to Web5\n",
            "  - Focus: Data sovereignty and privacy in the web\n",
            "\n",
            "Is there anything else that I can help you with?\n"
          ]
        }
      ],
      "source": [
        "chainlin_answer = response[\"response\"].content\n",
        "print(chainlin_answer)"
      ]
    },
    {
      "cell_type": "markdown",
      "metadata": {},
      "source": [
        "# BONUS - RAGAS "
      ]
    },
    {
      "cell_type": "code",
      "execution_count": 7,
      "metadata": {},
      "outputs": [
        {
          "ename": "NameError",
          "evalue": "name 'PyMuPDFLoader' is not defined",
          "output_type": "error",
          "traceback": [
            "\u001b[0;31m---------------------------------------------------------------------------\u001b[0m",
            "\u001b[0;31mNameError\u001b[0m                                 Traceback (most recent call last)",
            "Cell \u001b[0;32mIn[7], line 3\u001b[0m\n\u001b[1;32m      1\u001b[0m get_ipython()\u001b[38;5;241m.\u001b[39msystem(\u001b[38;5;124m'\u001b[39m\u001b[38;5;124mpip install -qU pymupdf\u001b[39m\u001b[38;5;124m'\u001b[39m)\n\u001b[0;32m----> 3\u001b[0m loader \u001b[38;5;241m=\u001b[39m \u001b[43mPyMuPDFLoader\u001b[49m(\n\u001b[1;32m      4\u001b[0m     \u001b[38;5;124m\"\u001b[39m\u001b[38;5;124m/Users/SKTL/Desktop/Coding/VS-Code/AIE2-demo-day/DeveloperWeek2024_FullSchedule.pdf\u001b[39m\u001b[38;5;124m\"\u001b[39m,\n\u001b[1;32m      5\u001b[0m )\n\u001b[1;32m      7\u001b[0m eval_documents \u001b[38;5;241m=\u001b[39m loader\u001b[38;5;241m.\u001b[39mload()\n\u001b[1;32m      9\u001b[0m text_splitter_eval \u001b[38;5;241m=\u001b[39m RecursiveCharacterTextSplitter(\n\u001b[1;32m     10\u001b[0m     chunk_size \u001b[38;5;241m=\u001b[39m \u001b[38;5;241m600\u001b[39m,\n\u001b[1;32m     11\u001b[0m     chunk_overlap \u001b[38;5;241m=\u001b[39m \u001b[38;5;241m50\u001b[39m\n\u001b[1;32m     12\u001b[0m )\n",
            "\u001b[0;31mNameError\u001b[0m: name 'PyMuPDFLoader' is not defined"
          ]
        }
      ],
      "source": [
        "!pip install -qU pymupdf\n",
        "\n",
        "loader = PyMuPDFLoader(\n",
        "    \"/Users/SKTL/Desktop/Coding/VS-Code/AIE2-demo-day/DeveloperWeek2024_FullSchedule.pdf\",\n",
        ")\n",
        "\n",
        "eval_documents = loader.load()\n",
        "\n",
        "text_splitter_eval = RecursiveCharacterTextSplitter(\n",
        "    chunk_size = 600,\n",
        "    chunk_overlap = 50\n",
        ")\n",
        "\n",
        "eval_documents = text_splitter_eval.split_documents(eval_documents)"
      ]
    },
    {
      "cell_type": "code",
      "execution_count": 28,
      "metadata": {},
      "outputs": [
        {
          "data": {
            "application/vnd.jupyter.widget-view+json": {
              "model_id": "ef7937440533485790cebf1c8913aa24",
              "version_major": 2,
              "version_minor": 0
            },
            "text/plain": [
              "embedding nodes:   0%|          | 0/2202 [00:00<?, ?it/s]"
            ]
          },
          "metadata": {},
          "output_type": "display_data"
        },
        {
          "name": "stderr",
          "output_type": "stream",
          "text": [
            "Filename and doc_id are the same for all nodes.\n"
          ]
        },
        {
          "data": {
            "application/vnd.jupyter.widget-view+json": {
              "model_id": "ea7293ce1a8844b5b5b92bc0d80b7904",
              "version_major": 2,
              "version_minor": 0
            },
            "text/plain": [
              "Generating:   0%|          | 0/20 [00:00<?, ?it/s]"
            ]
          },
          "metadata": {},
          "output_type": "display_data"
        },
        {
          "data": {
            "text/html": [
              "<div>\n",
              "<style scoped>\n",
              "    .dataframe tbody tr th:only-of-type {\n",
              "        vertical-align: middle;\n",
              "    }\n",
              "\n",
              "    .dataframe tbody tr th {\n",
              "        vertical-align: top;\n",
              "    }\n",
              "\n",
              "    .dataframe thead th {\n",
              "        text-align: right;\n",
              "    }\n",
              "</style>\n",
              "<table border=\"1\" class=\"dataframe\">\n",
              "  <thead>\n",
              "    <tr style=\"text-align: right;\">\n",
              "      <th></th>\n",
              "      <th>question</th>\n",
              "      <th>contexts</th>\n",
              "      <th>ground_truth</th>\n",
              "      <th>evolution_type</th>\n",
              "      <th>metadata</th>\n",
              "      <th>episode_done</th>\n",
              "    </tr>\n",
              "  </thead>\n",
              "  <tbody>\n",
              "    <tr>\n",
              "      <th>0</th>\n",
              "      <td>What was the outcome of the cancellation of mu...</td>\n",
              "      <td>[employees across the FoA and RL segments, and...</td>\n",
              "      <td>The outcome of the cancellation of multiple da...</td>\n",
              "      <td>simple</td>\n",
              "      <td>[{'source': 'https://d18rn0p25nwr6d.cloudfront...</td>\n",
              "      <td>True</td>\n",
              "    </tr>\n",
              "    <tr>\n",
              "      <th>1</th>\n",
              "      <td>What was the price per share of our Class A co...</td>\n",
              "      <td>[The trading price of our Class A common stock...</td>\n",
              "      <td>$38.00 per share</td>\n",
              "      <td>simple</td>\n",
              "      <td>[{'source': 'https://d18rn0p25nwr6d.cloudfront...</td>\n",
              "      <td>True</td>\n",
              "    </tr>\n",
              "    <tr>\n",
              "      <th>2</th>\n",
              "      <td>What is the amount of retained earnings as of ...</td>\n",
              "      <td>[Stockholders' equity:\\n \\n \\nCommon stock, $0...</td>\n",
              "      <td>82,070</td>\n",
              "      <td>simple</td>\n",
              "      <td>[{'source': 'https://d18rn0p25nwr6d.cloudfront...</td>\n",
              "      <td>True</td>\n",
              "    </tr>\n",
              "    <tr>\n",
              "      <th>3</th>\n",
              "      <td>What is the responsibility of management in re...</td>\n",
              "      <td>[specified in the rules and forms of the Secur...</td>\n",
              "      <td>Our management is responsible for establishing...</td>\n",
              "      <td>simple</td>\n",
              "      <td>[{'source': 'https://d18rn0p25nwr6d.cloudfront...</td>\n",
              "      <td>True</td>\n",
              "    </tr>\n",
              "    <tr>\n",
              "      <th>4</th>\n",
              "      <td>What limitations would the company face if the...</td>\n",
              "      <td>[seeks changes to our business. If we are unsu...</td>\n",
              "      <td>If the proposed order by the FTC is imposed in...</td>\n",
              "      <td>simple</td>\n",
              "      <td>[{'source': 'https://d18rn0p25nwr6d.cloudfront...</td>\n",
              "      <td>True</td>\n",
              "    </tr>\n",
              "    <tr>\n",
              "      <th>5</th>\n",
              "      <td>What is an example of a situation where a chan...</td>\n",
              "      <td>[period.\\nFor purposes of this Policy, a Finan...</td>\n",
              "      <td>An example of a situation where a change in ac...</td>\n",
              "      <td>simple</td>\n",
              "      <td>[{'source': 'https://d18rn0p25nwr6d.cloudfront...</td>\n",
              "      <td>True</td>\n",
              "    </tr>\n",
              "    <tr>\n",
              "      <th>6</th>\n",
              "      <td>What countries contributed to the majority of ...</td>\n",
              "      <td>[Accounts receivable are typically unsecured a...</td>\n",
              "      <td>Western Europe, China, Brazil, Australia, Cana...</td>\n",
              "      <td>simple</td>\n",
              "      <td>[{'source': 'https://d18rn0p25nwr6d.cloudfront...</td>\n",
              "      <td>True</td>\n",
              "    </tr>\n",
              "    <tr>\n",
              "      <th>7</th>\n",
              "      <td>What is the classification of assets based on ...</td>\n",
              "      <td>[Table of Contents\\n \\n \\nFair Value Measureme...</td>\n",
              "      <td>The classification of assets based on unobserv...</td>\n",
              "      <td>simple</td>\n",
              "      <td>[{'source': 'https://d18rn0p25nwr6d.cloudfront...</td>\n",
              "      <td>True</td>\n",
              "    </tr>\n",
              "    <tr>\n",
              "      <th>8</th>\n",
              "      <td>How does the adoption of new technologies affe...</td>\n",
              "      <td>[•\\nusers adopt new technologies where our pro...</td>\n",
              "      <td>The adoption of new technologies can lead to t...</td>\n",
              "      <td>simple</td>\n",
              "      <td>[{'source': 'https://d18rn0p25nwr6d.cloudfront...</td>\n",
              "      <td>True</td>\n",
              "    </tr>\n",
              "    <tr>\n",
              "      <th>9</th>\n",
              "      <td>What role do the bylaws play in potentially ma...</td>\n",
              "      <td>[Delaware law and provisions in our certificat...</td>\n",
              "      <td>The bylaws could potentially make a merger, te...</td>\n",
              "      <td>simple</td>\n",
              "      <td>[{'source': 'https://d18rn0p25nwr6d.cloudfront...</td>\n",
              "      <td>True</td>\n",
              "    </tr>\n",
              "    <tr>\n",
              "      <th>10</th>\n",
              "      <td>What are the changes brought by ASU No. 2023-0...</td>\n",
              "      <td>[improves the transparency of income tax discl...</td>\n",
              "      <td>nan</td>\n",
              "      <td>multi_context</td>\n",
              "      <td>[{'source': 'https://d18rn0p25nwr6d.cloudfront...</td>\n",
              "      <td>True</td>\n",
              "    </tr>\n",
              "    <tr>\n",
              "      <th>11</th>\n",
              "      <td>How does the CEO, who is also the CODM, manage...</td>\n",
              "      <td>[how the chief operating decision maker (CODM)...</td>\n",
              "      <td>The CEO, who is also the CODM, manages the bus...</td>\n",
              "      <td>multi_context</td>\n",
              "      <td>[{'source': 'https://d18rn0p25nwr6d.cloudfront...</td>\n",
              "      <td>True</td>\n",
              "    </tr>\n",
              "    <tr>\n",
              "      <th>12</th>\n",
              "      <td>What is the authorized number of shares for Cl...</td>\n",
              "      <td>[Table of Contents\\nNote 13. Stockholders' Equ...</td>\n",
              "      <td>5,000 million shares of Class A common stock a...</td>\n",
              "      <td>multi_context</td>\n",
              "      <td>[{'source': 'https://d18rn0p25nwr6d.cloudfront...</td>\n",
              "      <td>True</td>\n",
              "    </tr>\n",
              "    <tr>\n",
              "      <th>13</th>\n",
              "      <td>What was Meta Platforms, Inc.'s opinion on its...</td>\n",
              "      <td>[opinion, Meta Platforms, Inc. (the Company) m...</td>\n",
              "      <td>Meta Platforms, Inc. maintained effective inte...</td>\n",
              "      <td>multi_context</td>\n",
              "      <td>[{'source': 'https://d18rn0p25nwr6d.cloudfront...</td>\n",
              "      <td>True</td>\n",
              "    </tr>\n",
              "    <tr>\n",
              "      <th>14</th>\n",
              "      <td>How does the company estimate the number of us...</td>\n",
              "      <td>[MAP as a measure of the size of our global ac...</td>\n",
              "      <td>We estimate the number of users of our product...</td>\n",
              "      <td>multi_context</td>\n",
              "      <td>[{'source': 'https://d18rn0p25nwr6d.cloudfront...</td>\n",
              "      <td>True</td>\n",
              "    </tr>\n",
              "    <tr>\n",
              "      <th>15</th>\n",
              "      <td>How is user data privacy assessed and managed ...</td>\n",
              "      <td>[and consultants to assist with assessment and...</td>\n",
              "      <td>User data privacy is assessed and managed with...</td>\n",
              "      <td>multi_context</td>\n",
              "      <td>[{'source': 'https://d18rn0p25nwr6d.cloudfront...</td>\n",
              "      <td>True</td>\n",
              "    </tr>\n",
              "    <tr>\n",
              "      <th>16</th>\n",
              "      <td>What factors are considered for accounts recei...</td>\n",
              "      <td>[Table of Contents\\nallowance for unbilled rec...</td>\n",
              "      <td>Factors considered for accounts receivable all...</td>\n",
              "      <td>multi_context</td>\n",
              "      <td>[{'source': 'https://d18rn0p25nwr6d.cloudfront...</td>\n",
              "      <td>True</td>\n",
              "    </tr>\n",
              "    <tr>\n",
              "      <th>17</th>\n",
              "      <td>What is the value of restricted cash equivalen...</td>\n",
              "      <td>[U.S. government securities\\n8,708 \\n8,708 \\n—...</td>\n",
              "      <td>857</td>\n",
              "      <td>multi_context</td>\n",
              "      <td>[{'source': 'https://d18rn0p25nwr6d.cloudfront...</td>\n",
              "      <td>True</td>\n",
              "    </tr>\n",
              "    <tr>\n",
              "      <th>18</th>\n",
              "      <td>What decision did the IDPC make about Meta Pla...</td>\n",
              "      <td>[(GDPR), of certain other personal data breach...</td>\n",
              "      <td>On May 12, 2023, the IDPC issued a Final Decis...</td>\n",
              "      <td>reasoning</td>\n",
              "      <td>[{'source': 'https://d18rn0p25nwr6d.cloudfront...</td>\n",
              "      <td>True</td>\n",
              "    </tr>\n",
              "    <tr>\n",
              "      <th>19</th>\n",
              "      <td>What was the price range of our Class A common...</td>\n",
              "      <td>[The trading price of our Class A common stock...</td>\n",
              "      <td>The trading price of our Class A common stock ...</td>\n",
              "      <td>reasoning</td>\n",
              "      <td>[{'source': 'https://d18rn0p25nwr6d.cloudfront...</td>\n",
              "      <td>True</td>\n",
              "    </tr>\n",
              "  </tbody>\n",
              "</table>\n",
              "</div>"
            ],
            "text/plain": [
              "                                             question  \\\n",
              "0   What was the outcome of the cancellation of mu...   \n",
              "1   What was the price per share of our Class A co...   \n",
              "2   What is the amount of retained earnings as of ...   \n",
              "3   What is the responsibility of management in re...   \n",
              "4   What limitations would the company face if the...   \n",
              "5   What is an example of a situation where a chan...   \n",
              "6   What countries contributed to the majority of ...   \n",
              "7   What is the classification of assets based on ...   \n",
              "8   How does the adoption of new technologies affe...   \n",
              "9   What role do the bylaws play in potentially ma...   \n",
              "10  What are the changes brought by ASU No. 2023-0...   \n",
              "11  How does the CEO, who is also the CODM, manage...   \n",
              "12  What is the authorized number of shares for Cl...   \n",
              "13  What was Meta Platforms, Inc.'s opinion on its...   \n",
              "14  How does the company estimate the number of us...   \n",
              "15  How is user data privacy assessed and managed ...   \n",
              "16  What factors are considered for accounts recei...   \n",
              "17  What is the value of restricted cash equivalen...   \n",
              "18  What decision did the IDPC make about Meta Pla...   \n",
              "19  What was the price range of our Class A common...   \n",
              "\n",
              "                                             contexts  \\\n",
              "0   [employees across the FoA and RL segments, and...   \n",
              "1   [The trading price of our Class A common stock...   \n",
              "2   [Stockholders' equity:\\n \\n \\nCommon stock, $0...   \n",
              "3   [specified in the rules and forms of the Secur...   \n",
              "4   [seeks changes to our business. If we are unsu...   \n",
              "5   [period.\\nFor purposes of this Policy, a Finan...   \n",
              "6   [Accounts receivable are typically unsecured a...   \n",
              "7   [Table of Contents\\n \\n \\nFair Value Measureme...   \n",
              "8   [•\\nusers adopt new technologies where our pro...   \n",
              "9   [Delaware law and provisions in our certificat...   \n",
              "10  [improves the transparency of income tax discl...   \n",
              "11  [how the chief operating decision maker (CODM)...   \n",
              "12  [Table of Contents\\nNote 13. Stockholders' Equ...   \n",
              "13  [opinion, Meta Platforms, Inc. (the Company) m...   \n",
              "14  [MAP as a measure of the size of our global ac...   \n",
              "15  [and consultants to assist with assessment and...   \n",
              "16  [Table of Contents\\nallowance for unbilled rec...   \n",
              "17  [U.S. government securities\\n8,708 \\n8,708 \\n—...   \n",
              "18  [(GDPR), of certain other personal data breach...   \n",
              "19  [The trading price of our Class A common stock...   \n",
              "\n",
              "                                         ground_truth evolution_type  \\\n",
              "0   The outcome of the cancellation of multiple da...         simple   \n",
              "1                                    $38.00 per share         simple   \n",
              "2                                              82,070         simple   \n",
              "3   Our management is responsible for establishing...         simple   \n",
              "4   If the proposed order by the FTC is imposed in...         simple   \n",
              "5   An example of a situation where a change in ac...         simple   \n",
              "6   Western Europe, China, Brazil, Australia, Cana...         simple   \n",
              "7   The classification of assets based on unobserv...         simple   \n",
              "8   The adoption of new technologies can lead to t...         simple   \n",
              "9   The bylaws could potentially make a merger, te...         simple   \n",
              "10                                                nan  multi_context   \n",
              "11  The CEO, who is also the CODM, manages the bus...  multi_context   \n",
              "12  5,000 million shares of Class A common stock a...  multi_context   \n",
              "13  Meta Platforms, Inc. maintained effective inte...  multi_context   \n",
              "14  We estimate the number of users of our product...  multi_context   \n",
              "15  User data privacy is assessed and managed with...  multi_context   \n",
              "16  Factors considered for accounts receivable all...  multi_context   \n",
              "17                                                857  multi_context   \n",
              "18  On May 12, 2023, the IDPC issued a Final Decis...      reasoning   \n",
              "19  The trading price of our Class A common stock ...      reasoning   \n",
              "\n",
              "                                             metadata  episode_done  \n",
              "0   [{'source': 'https://d18rn0p25nwr6d.cloudfront...          True  \n",
              "1   [{'source': 'https://d18rn0p25nwr6d.cloudfront...          True  \n",
              "2   [{'source': 'https://d18rn0p25nwr6d.cloudfront...          True  \n",
              "3   [{'source': 'https://d18rn0p25nwr6d.cloudfront...          True  \n",
              "4   [{'source': 'https://d18rn0p25nwr6d.cloudfront...          True  \n",
              "5   [{'source': 'https://d18rn0p25nwr6d.cloudfront...          True  \n",
              "6   [{'source': 'https://d18rn0p25nwr6d.cloudfront...          True  \n",
              "7   [{'source': 'https://d18rn0p25nwr6d.cloudfront...          True  \n",
              "8   [{'source': 'https://d18rn0p25nwr6d.cloudfront...          True  \n",
              "9   [{'source': 'https://d18rn0p25nwr6d.cloudfront...          True  \n",
              "10  [{'source': 'https://d18rn0p25nwr6d.cloudfront...          True  \n",
              "11  [{'source': 'https://d18rn0p25nwr6d.cloudfront...          True  \n",
              "12  [{'source': 'https://d18rn0p25nwr6d.cloudfront...          True  \n",
              "13  [{'source': 'https://d18rn0p25nwr6d.cloudfront...          True  \n",
              "14  [{'source': 'https://d18rn0p25nwr6d.cloudfront...          True  \n",
              "15  [{'source': 'https://d18rn0p25nwr6d.cloudfront...          True  \n",
              "16  [{'source': 'https://d18rn0p25nwr6d.cloudfront...          True  \n",
              "17  [{'source': 'https://d18rn0p25nwr6d.cloudfront...          True  \n",
              "18  [{'source': 'https://d18rn0p25nwr6d.cloudfront...          True  \n",
              "19  [{'source': 'https://d18rn0p25nwr6d.cloudfront...          True  "
            ]
          },
          "execution_count": 28,
          "metadata": {},
          "output_type": "execute_result"
        }
      ],
      "source": [
        "from ragas.testset.generator import TestsetGenerator\n",
        "from ragas.testset.evolutions import simple, reasoning, multi_context\n",
        "from langchain_openai import ChatOpenAI, OpenAIEmbeddings\n",
        "\n",
        "generator_llm = ChatOpenAI(model=\"gpt-3.5-turbo-16k\")\n",
        "critic_llm = ChatOpenAI(model=\"gpt-3.5-turbo\")\n",
        "embeddings = OpenAIEmbeddings()\n",
        "\n",
        "generator = TestsetGenerator.from_langchain(\n",
        "    generator_llm,\n",
        "    critic_llm,\n",
        "    embeddings\n",
        ")\n",
        "\n",
        "distributions = {\n",
        "    simple: 0.5,\n",
        "    multi_context: 0.4,\n",
        "    reasoning: 0.1\n",
        "}\n",
        "\n",
        "testset = generator.generate_with_langchain_docs(eval_documents, 20, distributions, is_async = False)\n",
        "testset.to_pandas()"
      ]
    },
    {
      "cell_type": "code",
      "execution_count": 29,
      "metadata": {},
      "outputs": [
        {
          "data": {
            "text/plain": [
              "DataRow(question='What was the outcome of the cancellation of multiple data center projects?', contexts=['employees across the FoA and RL segments, and a pivot towards a next generation data center design, including cancellation of multiple data center projects\\n(the 2022 Restructuring). As of December\\xa031, 2023, we have completed the data center initiatives and the 2022 employee layoffs, and substantially completed\\nthe facilities consolidation initiatives.\\n(1)\\n104'], ground_truth='The outcome of the cancellation of multiple data center projects was the completion of the data center initiatives.', evolution_type='simple', metadata=[{'source': 'https://d18rn0p25nwr6d.cloudfront.net/CIK-0001326801/c7318154-f6ae-4866-89fa-f0c589f2ee3d.pdf', 'file_path': 'https://d18rn0p25nwr6d.cloudfront.net/CIK-0001326801/c7318154-f6ae-4866-89fa-f0c589f2ee3d.pdf', 'page': 104, 'total_pages': 147, 'format': 'PDF 1.4', 'title': '0001326801-24-000012', 'author': 'EDGAR® Online LLC, a subsidiary of OTC Markets Group', 'subject': 'Form 10-K filed on 2024-02-02 for the period ending 2023-12-31', 'keywords': '0001326801-24-000012; ; 10-K', 'creator': 'EDGAR Filing HTML Converter', 'producer': 'EDGRpdf Service w/ EO.Pdf 22.0.40.0', 'creationDate': \"D:20240202060356-05'00'\", 'modDate': \"D:20240202060413-05'00'\", 'trapped': '', 'encryption': 'Standard V2 R3 128-bit RC4'}])"
            ]
          },
          "execution_count": 29,
          "metadata": {},
          "output_type": "execute_result"
        }
      ],
      "source": [
        "testset.test_data[0]"
      ]
    },
    {
      "cell_type": "code",
      "execution_count": 30,
      "metadata": {},
      "outputs": [],
      "source": [
        "test_df = testset.to_pandas()"
      ]
    },
    {
      "cell_type": "code",
      "execution_count": 31,
      "metadata": {},
      "outputs": [
        {
          "data": {
            "text/html": [
              "<div>\n",
              "<style scoped>\n",
              "    .dataframe tbody tr th:only-of-type {\n",
              "        vertical-align: middle;\n",
              "    }\n",
              "\n",
              "    .dataframe tbody tr th {\n",
              "        vertical-align: top;\n",
              "    }\n",
              "\n",
              "    .dataframe thead th {\n",
              "        text-align: right;\n",
              "    }\n",
              "</style>\n",
              "<table border=\"1\" class=\"dataframe\">\n",
              "  <thead>\n",
              "    <tr style=\"text-align: right;\">\n",
              "      <th></th>\n",
              "      <th>question</th>\n",
              "      <th>contexts</th>\n",
              "      <th>ground_truth</th>\n",
              "      <th>evolution_type</th>\n",
              "      <th>metadata</th>\n",
              "      <th>episode_done</th>\n",
              "    </tr>\n",
              "  </thead>\n",
              "  <tbody>\n",
              "    <tr>\n",
              "      <th>0</th>\n",
              "      <td>What was the outcome of the cancellation of mu...</td>\n",
              "      <td>[employees across the FoA and RL segments, and...</td>\n",
              "      <td>The outcome of the cancellation of multiple da...</td>\n",
              "      <td>simple</td>\n",
              "      <td>[{'source': 'https://d18rn0p25nwr6d.cloudfront...</td>\n",
              "      <td>True</td>\n",
              "    </tr>\n",
              "    <tr>\n",
              "      <th>1</th>\n",
              "      <td>What was the price per share of our Class A co...</td>\n",
              "      <td>[The trading price of our Class A common stock...</td>\n",
              "      <td>$38.00 per share</td>\n",
              "      <td>simple</td>\n",
              "      <td>[{'source': 'https://d18rn0p25nwr6d.cloudfront...</td>\n",
              "      <td>True</td>\n",
              "    </tr>\n",
              "    <tr>\n",
              "      <th>2</th>\n",
              "      <td>What is the amount of retained earnings as of ...</td>\n",
              "      <td>[Stockholders' equity:\\n \\n \\nCommon stock, $0...</td>\n",
              "      <td>82,070</td>\n",
              "      <td>simple</td>\n",
              "      <td>[{'source': 'https://d18rn0p25nwr6d.cloudfront...</td>\n",
              "      <td>True</td>\n",
              "    </tr>\n",
              "    <tr>\n",
              "      <th>3</th>\n",
              "      <td>What is the responsibility of management in re...</td>\n",
              "      <td>[specified in the rules and forms of the Secur...</td>\n",
              "      <td>Our management is responsible for establishing...</td>\n",
              "      <td>simple</td>\n",
              "      <td>[{'source': 'https://d18rn0p25nwr6d.cloudfront...</td>\n",
              "      <td>True</td>\n",
              "    </tr>\n",
              "    <tr>\n",
              "      <th>4</th>\n",
              "      <td>What limitations would the company face if the...</td>\n",
              "      <td>[seeks changes to our business. If we are unsu...</td>\n",
              "      <td>If the proposed order by the FTC is imposed in...</td>\n",
              "      <td>simple</td>\n",
              "      <td>[{'source': 'https://d18rn0p25nwr6d.cloudfront...</td>\n",
              "      <td>True</td>\n",
              "    </tr>\n",
              "    <tr>\n",
              "      <th>5</th>\n",
              "      <td>What is an example of a situation where a chan...</td>\n",
              "      <td>[period.\\nFor purposes of this Policy, a Finan...</td>\n",
              "      <td>An example of a situation where a change in ac...</td>\n",
              "      <td>simple</td>\n",
              "      <td>[{'source': 'https://d18rn0p25nwr6d.cloudfront...</td>\n",
              "      <td>True</td>\n",
              "    </tr>\n",
              "    <tr>\n",
              "      <th>6</th>\n",
              "      <td>What countries contributed to the majority of ...</td>\n",
              "      <td>[Accounts receivable are typically unsecured a...</td>\n",
              "      <td>Western Europe, China, Brazil, Australia, Cana...</td>\n",
              "      <td>simple</td>\n",
              "      <td>[{'source': 'https://d18rn0p25nwr6d.cloudfront...</td>\n",
              "      <td>True</td>\n",
              "    </tr>\n",
              "    <tr>\n",
              "      <th>7</th>\n",
              "      <td>What is the classification of assets based on ...</td>\n",
              "      <td>[Table of Contents\\n \\n \\nFair Value Measureme...</td>\n",
              "      <td>The classification of assets based on unobserv...</td>\n",
              "      <td>simple</td>\n",
              "      <td>[{'source': 'https://d18rn0p25nwr6d.cloudfront...</td>\n",
              "      <td>True</td>\n",
              "    </tr>\n",
              "    <tr>\n",
              "      <th>8</th>\n",
              "      <td>How does the adoption of new technologies affe...</td>\n",
              "      <td>[•\\nusers adopt new technologies where our pro...</td>\n",
              "      <td>The adoption of new technologies can lead to t...</td>\n",
              "      <td>simple</td>\n",
              "      <td>[{'source': 'https://d18rn0p25nwr6d.cloudfront...</td>\n",
              "      <td>True</td>\n",
              "    </tr>\n",
              "    <tr>\n",
              "      <th>9</th>\n",
              "      <td>What role do the bylaws play in potentially ma...</td>\n",
              "      <td>[Delaware law and provisions in our certificat...</td>\n",
              "      <td>The bylaws could potentially make a merger, te...</td>\n",
              "      <td>simple</td>\n",
              "      <td>[{'source': 'https://d18rn0p25nwr6d.cloudfront...</td>\n",
              "      <td>True</td>\n",
              "    </tr>\n",
              "    <tr>\n",
              "      <th>10</th>\n",
              "      <td>What are the changes brought by ASU No. 2023-0...</td>\n",
              "      <td>[improves the transparency of income tax discl...</td>\n",
              "      <td>nan</td>\n",
              "      <td>multi_context</td>\n",
              "      <td>[{'source': 'https://d18rn0p25nwr6d.cloudfront...</td>\n",
              "      <td>True</td>\n",
              "    </tr>\n",
              "    <tr>\n",
              "      <th>11</th>\n",
              "      <td>How does the CEO, who is also the CODM, manage...</td>\n",
              "      <td>[how the chief operating decision maker (CODM)...</td>\n",
              "      <td>The CEO, who is also the CODM, manages the bus...</td>\n",
              "      <td>multi_context</td>\n",
              "      <td>[{'source': 'https://d18rn0p25nwr6d.cloudfront...</td>\n",
              "      <td>True</td>\n",
              "    </tr>\n",
              "    <tr>\n",
              "      <th>12</th>\n",
              "      <td>What is the authorized number of shares for Cl...</td>\n",
              "      <td>[Table of Contents\\nNote 13. Stockholders' Equ...</td>\n",
              "      <td>5,000 million shares of Class A common stock a...</td>\n",
              "      <td>multi_context</td>\n",
              "      <td>[{'source': 'https://d18rn0p25nwr6d.cloudfront...</td>\n",
              "      <td>True</td>\n",
              "    </tr>\n",
              "    <tr>\n",
              "      <th>13</th>\n",
              "      <td>What was Meta Platforms, Inc.'s opinion on its...</td>\n",
              "      <td>[opinion, Meta Platforms, Inc. (the Company) m...</td>\n",
              "      <td>Meta Platforms, Inc. maintained effective inte...</td>\n",
              "      <td>multi_context</td>\n",
              "      <td>[{'source': 'https://d18rn0p25nwr6d.cloudfront...</td>\n",
              "      <td>True</td>\n",
              "    </tr>\n",
              "    <tr>\n",
              "      <th>14</th>\n",
              "      <td>How does the company estimate the number of us...</td>\n",
              "      <td>[MAP as a measure of the size of our global ac...</td>\n",
              "      <td>We estimate the number of users of our product...</td>\n",
              "      <td>multi_context</td>\n",
              "      <td>[{'source': 'https://d18rn0p25nwr6d.cloudfront...</td>\n",
              "      <td>True</td>\n",
              "    </tr>\n",
              "    <tr>\n",
              "      <th>15</th>\n",
              "      <td>How is user data privacy assessed and managed ...</td>\n",
              "      <td>[and consultants to assist with assessment and...</td>\n",
              "      <td>User data privacy is assessed and managed with...</td>\n",
              "      <td>multi_context</td>\n",
              "      <td>[{'source': 'https://d18rn0p25nwr6d.cloudfront...</td>\n",
              "      <td>True</td>\n",
              "    </tr>\n",
              "    <tr>\n",
              "      <th>16</th>\n",
              "      <td>What factors are considered for accounts recei...</td>\n",
              "      <td>[Table of Contents\\nallowance for unbilled rec...</td>\n",
              "      <td>Factors considered for accounts receivable all...</td>\n",
              "      <td>multi_context</td>\n",
              "      <td>[{'source': 'https://d18rn0p25nwr6d.cloudfront...</td>\n",
              "      <td>True</td>\n",
              "    </tr>\n",
              "    <tr>\n",
              "      <th>17</th>\n",
              "      <td>What is the value of restricted cash equivalen...</td>\n",
              "      <td>[U.S. government securities\\n8,708 \\n8,708 \\n—...</td>\n",
              "      <td>857</td>\n",
              "      <td>multi_context</td>\n",
              "      <td>[{'source': 'https://d18rn0p25nwr6d.cloudfront...</td>\n",
              "      <td>True</td>\n",
              "    </tr>\n",
              "    <tr>\n",
              "      <th>18</th>\n",
              "      <td>What decision did the IDPC make about Meta Pla...</td>\n",
              "      <td>[(GDPR), of certain other personal data breach...</td>\n",
              "      <td>On May 12, 2023, the IDPC issued a Final Decis...</td>\n",
              "      <td>reasoning</td>\n",
              "      <td>[{'source': 'https://d18rn0p25nwr6d.cloudfront...</td>\n",
              "      <td>True</td>\n",
              "    </tr>\n",
              "    <tr>\n",
              "      <th>19</th>\n",
              "      <td>What was the price range of our Class A common...</td>\n",
              "      <td>[The trading price of our Class A common stock...</td>\n",
              "      <td>The trading price of our Class A common stock ...</td>\n",
              "      <td>reasoning</td>\n",
              "      <td>[{'source': 'https://d18rn0p25nwr6d.cloudfront...</td>\n",
              "      <td>True</td>\n",
              "    </tr>\n",
              "  </tbody>\n",
              "</table>\n",
              "</div>"
            ],
            "text/plain": [
              "                                             question  \\\n",
              "0   What was the outcome of the cancellation of mu...   \n",
              "1   What was the price per share of our Class A co...   \n",
              "2   What is the amount of retained earnings as of ...   \n",
              "3   What is the responsibility of management in re...   \n",
              "4   What limitations would the company face if the...   \n",
              "5   What is an example of a situation where a chan...   \n",
              "6   What countries contributed to the majority of ...   \n",
              "7   What is the classification of assets based on ...   \n",
              "8   How does the adoption of new technologies affe...   \n",
              "9   What role do the bylaws play in potentially ma...   \n",
              "10  What are the changes brought by ASU No. 2023-0...   \n",
              "11  How does the CEO, who is also the CODM, manage...   \n",
              "12  What is the authorized number of shares for Cl...   \n",
              "13  What was Meta Platforms, Inc.'s opinion on its...   \n",
              "14  How does the company estimate the number of us...   \n",
              "15  How is user data privacy assessed and managed ...   \n",
              "16  What factors are considered for accounts recei...   \n",
              "17  What is the value of restricted cash equivalen...   \n",
              "18  What decision did the IDPC make about Meta Pla...   \n",
              "19  What was the price range of our Class A common...   \n",
              "\n",
              "                                             contexts  \\\n",
              "0   [employees across the FoA and RL segments, and...   \n",
              "1   [The trading price of our Class A common stock...   \n",
              "2   [Stockholders' equity:\\n \\n \\nCommon stock, $0...   \n",
              "3   [specified in the rules and forms of the Secur...   \n",
              "4   [seeks changes to our business. If we are unsu...   \n",
              "5   [period.\\nFor purposes of this Policy, a Finan...   \n",
              "6   [Accounts receivable are typically unsecured a...   \n",
              "7   [Table of Contents\\n \\n \\nFair Value Measureme...   \n",
              "8   [•\\nusers adopt new technologies where our pro...   \n",
              "9   [Delaware law and provisions in our certificat...   \n",
              "10  [improves the transparency of income tax discl...   \n",
              "11  [how the chief operating decision maker (CODM)...   \n",
              "12  [Table of Contents\\nNote 13. Stockholders' Equ...   \n",
              "13  [opinion, Meta Platforms, Inc. (the Company) m...   \n",
              "14  [MAP as a measure of the size of our global ac...   \n",
              "15  [and consultants to assist with assessment and...   \n",
              "16  [Table of Contents\\nallowance for unbilled rec...   \n",
              "17  [U.S. government securities\\n8,708 \\n8,708 \\n—...   \n",
              "18  [(GDPR), of certain other personal data breach...   \n",
              "19  [The trading price of our Class A common stock...   \n",
              "\n",
              "                                         ground_truth evolution_type  \\\n",
              "0   The outcome of the cancellation of multiple da...         simple   \n",
              "1                                    $38.00 per share         simple   \n",
              "2                                              82,070         simple   \n",
              "3   Our management is responsible for establishing...         simple   \n",
              "4   If the proposed order by the FTC is imposed in...         simple   \n",
              "5   An example of a situation where a change in ac...         simple   \n",
              "6   Western Europe, China, Brazil, Australia, Cana...         simple   \n",
              "7   The classification of assets based on unobserv...         simple   \n",
              "8   The adoption of new technologies can lead to t...         simple   \n",
              "9   The bylaws could potentially make a merger, te...         simple   \n",
              "10                                                nan  multi_context   \n",
              "11  The CEO, who is also the CODM, manages the bus...  multi_context   \n",
              "12  5,000 million shares of Class A common stock a...  multi_context   \n",
              "13  Meta Platforms, Inc. maintained effective inte...  multi_context   \n",
              "14  We estimate the number of users of our product...  multi_context   \n",
              "15  User data privacy is assessed and managed with...  multi_context   \n",
              "16  Factors considered for accounts receivable all...  multi_context   \n",
              "17                                                857  multi_context   \n",
              "18  On May 12, 2023, the IDPC issued a Final Decis...      reasoning   \n",
              "19  The trading price of our Class A common stock ...      reasoning   \n",
              "\n",
              "                                             metadata  episode_done  \n",
              "0   [{'source': 'https://d18rn0p25nwr6d.cloudfront...          True  \n",
              "1   [{'source': 'https://d18rn0p25nwr6d.cloudfront...          True  \n",
              "2   [{'source': 'https://d18rn0p25nwr6d.cloudfront...          True  \n",
              "3   [{'source': 'https://d18rn0p25nwr6d.cloudfront...          True  \n",
              "4   [{'source': 'https://d18rn0p25nwr6d.cloudfront...          True  \n",
              "5   [{'source': 'https://d18rn0p25nwr6d.cloudfront...          True  \n",
              "6   [{'source': 'https://d18rn0p25nwr6d.cloudfront...          True  \n",
              "7   [{'source': 'https://d18rn0p25nwr6d.cloudfront...          True  \n",
              "8   [{'source': 'https://d18rn0p25nwr6d.cloudfront...          True  \n",
              "9   [{'source': 'https://d18rn0p25nwr6d.cloudfront...          True  \n",
              "10  [{'source': 'https://d18rn0p25nwr6d.cloudfront...          True  \n",
              "11  [{'source': 'https://d18rn0p25nwr6d.cloudfront...          True  \n",
              "12  [{'source': 'https://d18rn0p25nwr6d.cloudfront...          True  \n",
              "13  [{'source': 'https://d18rn0p25nwr6d.cloudfront...          True  \n",
              "14  [{'source': 'https://d18rn0p25nwr6d.cloudfront...          True  \n",
              "15  [{'source': 'https://d18rn0p25nwr6d.cloudfront...          True  \n",
              "16  [{'source': 'https://d18rn0p25nwr6d.cloudfront...          True  \n",
              "17  [{'source': 'https://d18rn0p25nwr6d.cloudfront...          True  \n",
              "18  [{'source': 'https://d18rn0p25nwr6d.cloudfront...          True  \n",
              "19  [{'source': 'https://d18rn0p25nwr6d.cloudfront...          True  "
            ]
          },
          "execution_count": 31,
          "metadata": {},
          "output_type": "execute_result"
        }
      ],
      "source": [
        "test_df"
      ]
    },
    {
      "cell_type": "code",
      "execution_count": 32,
      "metadata": {},
      "outputs": [],
      "source": [
        "test_questions = test_df[\"question\"].values.tolist()\n",
        "test_groundtruths = test_df[\"ground_truth\"].values.tolist()"
      ]
    },
    {
      "cell_type": "code",
      "execution_count": 33,
      "metadata": {},
      "outputs": [],
      "source": [
        "test_questions = test_df[\"question\"].values.tolist()\n",
        "test_groundtruths = test_df[\"ground_truth\"].values.tolist()"
      ]
    },
    {
      "cell_type": "code",
      "execution_count": 34,
      "metadata": {},
      "outputs": [],
      "source": [
        "answers = []\n",
        "contexts = []\n",
        "\n",
        "for question in test_questions:\n",
        "  response = retrieval_augmented_qa_chain.invoke({\"question\" : question})\n",
        "  answers.append(response[\"response\"].content)\n",
        "  contexts.append([context.page_content for context in response[\"context\"]])"
      ]
    },
    {
      "cell_type": "code",
      "execution_count": 35,
      "metadata": {},
      "outputs": [],
      "source": [
        "from datasets import Dataset\n",
        "\n",
        "response_dataset = Dataset.from_dict({\n",
        "    \"question\" : test_questions,\n",
        "    \"answer\" : answers,\n",
        "    \"contexts\" : contexts,\n",
        "    \"ground_truth\" : test_groundtruths\n",
        "})"
      ]
    },
    {
      "cell_type": "code",
      "execution_count": 36,
      "metadata": {},
      "outputs": [
        {
          "data": {
            "text/plain": [
              "{'question': 'What was the outcome of the cancellation of multiple data center projects?',\n",
              " 'answer': 'The outcome of the cancellation of multiple data center projects was not explicitly mentioned in the provided context. \\n\\nIs there anything else that I can help you with?',\n",
              " 'contexts': [\"• \\nIn-Person/Virtual Virtual \\n3:00pm PST \\n[Virtual Exclusive] Mastering the Multifaceted Challenges of Multi-Cloud SaaS \\nOperations  \\nShikha Srivsatava, IBM, Distinguished Engineer and Master Inventor \\n \\nSaaS vendors today are challenged to make their SaaS available in multiple \\nclouds to meet the customers where they are. Running a SaaS (Software as a \\nService) application across multiple cloud providers can offer benefits like \\nredundancy, flexibility, and cost optimization, but it also presents several \\nchallenges. Here are some of the key challenges SaaS vendors face when \\noperating in multiple cloud environments:- Complexity and Heterogeneity: \\nEach cloud provider has its own unique infrastructure, services, and APIs. \\nManaging and coordinating resources across multiple clouds can be \\ncomplex and require expertise in each platform.- Cost Management: Each \\ncloud provider has its own pricing model and cost structure. Keeping track of \\ncosts, optimizing resource allocation, and avoiding unexpected expenses can \\nbe a significant challenge. Tools and strategies for cost control are essential.- \\nSecurity and Compliance: Managing security across multiple clouds requires \\na comprehensive approach. You need to ensure that each cloud provider's \\nsecurity features are effectively configured and that data privacy and \\ncompliance requirements are met in all locations.- Performance and Latency: \\nDealing with varying network latencies and performance characteristics in \\ndifferent cloud regions can be challenging. You may need to implement \\nsolutions such as Content Delivery Networks (CDNs) and load balancing to \\nmitigate latency issues.- Vendor Lock-In: Avoiding vendor lock-in is difficult \\nwhen running in multiple clouds. You must design your architecture to be as \\ncloud-agnostic as possible and be prepared for the potential migration of \\nservices or data between providers.- Monitoring and Management: \\nCentralized monitoring and management tools are critical for tracking \\nperformance, diagnosing issues, and managing resources effectively. \\nImplementing consistent monitoring and management across multiple \\nclouds is a challenge.-. Disaster Recovery and Redundancy: Designing and \\nimplementing disaster recovery and redundancy strategies that work across \\nmultiple cloud providers is essential. This ensures that your SaaS remains\",\n",
              "  'clouds is a challenge.-. Disaster Recovery and Redundancy: Designing and \\nimplementing disaster recovery and redundancy strategies that work across \\nmultiple cloud providers is essential. This ensures that your SaaS remains \\navailable even in the event of cloud provider outages or failures.- Service \\nLevel Agreements (SLAs): Different cloud providers have different SLAs for',\n",
              "  \"• \\nIn-Person/Virtual In Person \\n11:00am PST \\nPRO TALK: Understanding Your Cloud Disaster Recovery Cost  \\nNatalie Sererbyakova, Altruist, Cloud Engineer \\n \\nThe talk dives into the challenges of managing disaster recovery costs in the \\ncloud. It will cover difficulties in estimating and optimizing these costs for \\ndifferent disaster recovery options and use AWS cloud examples to clarify \\nkey ideas, focusing on understanding cost drivers and operational \\nconsiderations. \\nThe session will provide valuable insights into cost-efficient disaster recovery \\nplanning. It will also explain the importance of proactive cost estimation in \\ndisaster recovery planning to minimize operational overhead effectively.  \\n \\nSpeakers  \\n \\nNatalie Sererbyakova \\nStaff Cloud Engineer, Altruist \\nMy name is Natalie. I'm a Staff Cloud Engineer, who also enjoys working on \\nbuilding and automating various tools that help the development teams be\",\n",
              "  'AI & Machine Learning Conference  \\n• \\nCertificates AI & ML Certificate, DevOps Certificate \\n• \\nTalk Type PRO TALK \\n• \\nTrack or Conference AI & Machine Learning Conference, DevOps Summit \\n• \\nIn-Person/Virtual In Person \\n3:30pm PST \\nPRO TALK: Restate: Durable Async/Await for Stateful (Serverless) \\nMicroservices and Workflows  \\nGiselle van Dongen, Restate, Developer advocate \\nStephan Ewen, Restate, Founder \\n \\nDeveloping applications in a microservice architecture is hard. For all the \\nbenefits that it brings over monolithic application architectures, they expose \\ndevelopers to all sorts of tough distributed systems problems, making it non-\\ntrivial to build applications that are consistent, scalable, and resilient. \\nWouldn\\'t it be great if you could stop worrying about all possible failure \\nscenarios and race conditions in your system such as charging customers \\ntwice, users withdrawing more cash than they have, and selling a single ticket \\nmultiple times? \\n \\nIn this session, we introduce the open-source system \"Restate\" \\n(https://restate.dev/), a new type of foundation for transactional applications, \\nbased on *distributed durable async/await*: \\n- Restate offers powerful building blocks for applications, like persistent \\npromises, stateful RPC handlers, reliable RPC & messaging, and durable \\ntimers. \\n- Under the hood, Restate executes your applications in a resilient and low-\\nlatency event-driven manner, giving you all the benefits of event-driven \\napproaches, without any of the complexity: Your code is still a familiar long-\\nrunning RPC application. \\n- Write business logic as if infrastructure failures don\\'t exist; the durable \\nasync/await mechanism transparently handles all those failure. \\n- Write Lambda functions as if they\\'re long-running apps, letting Restate \\nintelligently manage suspensions and re-invocations during wait times. \\n- And much more.'],\n",
              " 'ground_truth': 'The outcome of the cancellation of multiple data center projects was the completion of the data center initiatives.'}"
            ]
          },
          "execution_count": 36,
          "metadata": {},
          "output_type": "execute_result"
        }
      ],
      "source": [
        "response_dataset[0]"
      ]
    },
    {
      "cell_type": "code",
      "execution_count": 37,
      "metadata": {},
      "outputs": [],
      "source": [
        "from ragas import evaluate\n",
        "from ragas.metrics import (\n",
        "    faithfulness,\n",
        "    answer_relevancy,\n",
        "    answer_correctness,\n",
        "    context_recall,\n",
        "    context_precision,\n",
        ")\n",
        "\n",
        "metrics = [\n",
        "    faithfulness,\n",
        "    answer_relevancy,\n",
        "    context_recall,\n",
        "    context_precision,\n",
        "    answer_correctness,\n",
        "]"
      ]
    },
    {
      "cell_type": "code",
      "execution_count": 38,
      "metadata": {},
      "outputs": [
        {
          "data": {
            "application/vnd.jupyter.widget-view+json": {
              "model_id": "9508e5e1baf041fe9d98b86d7661a2ba",
              "version_major": 2,
              "version_minor": 0
            },
            "text/plain": [
              "Evaluating:   0%|          | 0/100 [00:00<?, ?it/s]"
            ]
          },
          "metadata": {},
          "output_type": "display_data"
        },
        {
          "name": "stderr",
          "output_type": "stream",
          "text": [
            "No statements were generated from the answer.\n",
            "No statements were generated from the answer.\n",
            "No statements were generated from the answer.\n",
            "No statements were generated from the answer.\n",
            "No statements were generated from the answer.\n",
            "No statements were generated from the answer.\n",
            "No statements were generated from the answer.\n",
            "No statements were generated from the answer.\n",
            "No statements were generated from the answer.\n"
          ]
        }
      ],
      "source": [
        "results = evaluate(response_dataset, metrics)"
      ]
    },
    {
      "cell_type": "code",
      "execution_count": null,
      "metadata": {},
      "outputs": [
        {
          "data": {
            "text/plain": [
              "{'faithfulness': 0.7500, 'answer_relevancy': 0.3637, 'context_recall': 0.2632, 'context_precision': 0.0746, 'answer_correctness': 0.2990}"
            ]
          },
          "execution_count": 36,
          "metadata": {},
          "output_type": "execute_result"
        }
      ],
      "source": [
        "results"
      ]
    },
    {
      "cell_type": "code",
      "execution_count": 39,
      "metadata": {},
      "outputs": [
        {
          "data": {
            "text/html": [
              "<div>\n",
              "<style scoped>\n",
              "    .dataframe tbody tr th:only-of-type {\n",
              "        vertical-align: middle;\n",
              "    }\n",
              "\n",
              "    .dataframe tbody tr th {\n",
              "        vertical-align: top;\n",
              "    }\n",
              "\n",
              "    .dataframe thead th {\n",
              "        text-align: right;\n",
              "    }\n",
              "</style>\n",
              "<table border=\"1\" class=\"dataframe\">\n",
              "  <thead>\n",
              "    <tr style=\"text-align: right;\">\n",
              "      <th></th>\n",
              "      <th>question</th>\n",
              "      <th>answer</th>\n",
              "      <th>contexts</th>\n",
              "      <th>ground_truth</th>\n",
              "      <th>faithfulness</th>\n",
              "      <th>answer_relevancy</th>\n",
              "      <th>context_recall</th>\n",
              "      <th>context_precision</th>\n",
              "      <th>answer_correctness</th>\n",
              "    </tr>\n",
              "  </thead>\n",
              "  <tbody>\n",
              "    <tr>\n",
              "      <th>0</th>\n",
              "      <td>What was the outcome of the cancellation of mu...</td>\n",
              "      <td>The outcome of the cancellation of multiple da...</td>\n",
              "      <td>[• \\nIn-Person/Virtual Virtual \\n3:00pm PST \\n...</td>\n",
              "      <td>The outcome of the cancellation of multiple da...</td>\n",
              "      <td>NaN</td>\n",
              "      <td>0.000000</td>\n",
              "      <td>0.000000</td>\n",
              "      <td>0.0</td>\n",
              "      <td>0.215985</td>\n",
              "    </tr>\n",
              "    <tr>\n",
              "      <th>1</th>\n",
              "      <td>What was the price per share of our Class A co...</td>\n",
              "      <td>Insufficient data for further analysis, please...</td>\n",
              "      <td>[Thursday February 22, 2024 9:30am - 9:55am PS...</td>\n",
              "      <td>$38.00 per share</td>\n",
              "      <td>NaN</td>\n",
              "      <td>0.725214</td>\n",
              "      <td>0.000000</td>\n",
              "      <td>0.0</td>\n",
              "      <td>0.181676</td>\n",
              "    </tr>\n",
              "    <tr>\n",
              "      <th>2</th>\n",
              "      <td>What is the amount of retained earnings as of ...</td>\n",
              "      <td>Insufficient data for further analysis, please...</td>\n",
              "      <td>[Thursday February 22, 2024 9:30am - 9:55am PS...</td>\n",
              "      <td>82,070</td>\n",
              "      <td>0.000000</td>\n",
              "      <td>0.753913</td>\n",
              "      <td>0.000000</td>\n",
              "      <td>0.0</td>\n",
              "      <td>0.186236</td>\n",
              "    </tr>\n",
              "    <tr>\n",
              "      <th>3</th>\n",
              "      <td>What is the responsibility of management in re...</td>\n",
              "      <td>In the context provided, the responsibility of...</td>\n",
              "      <td>[into ethical A/B testing practices, including...</td>\n",
              "      <td>Our management is responsible for establishing...</td>\n",
              "      <td>1.000000</td>\n",
              "      <td>0.962858</td>\n",
              "      <td>1.000000</td>\n",
              "      <td>0.0</td>\n",
              "      <td>0.713485</td>\n",
              "    </tr>\n",
              "    <tr>\n",
              "      <th>4</th>\n",
              "      <td>What limitations would the company face if the...</td>\n",
              "      <td>Based on the provided context, the document do...</td>\n",
              "      <td>[There are 3 learning outcomes: \\n-Identify wh...</td>\n",
              "      <td>If the proposed order by the FTC is imposed in...</td>\n",
              "      <td>NaN</td>\n",
              "      <td>0.000000</td>\n",
              "      <td>1.000000</td>\n",
              "      <td>0.0</td>\n",
              "      <td>0.219077</td>\n",
              "    </tr>\n",
              "    <tr>\n",
              "      <th>5</th>\n",
              "      <td>What is an example of a situation where a chan...</td>\n",
              "      <td>A change in accounting principles would not be...</td>\n",
              "      <td>[3:30pm PST \\n[Virtual] PRO TALK: Restate: Dur...</td>\n",
              "      <td>An example of a situation where a change in ac...</td>\n",
              "      <td>1.000000</td>\n",
              "      <td>0.761663</td>\n",
              "      <td>0.000000</td>\n",
              "      <td>0.0</td>\n",
              "      <td>0.830095</td>\n",
              "    </tr>\n",
              "    <tr>\n",
              "      <th>6</th>\n",
              "      <td>What countries contributed to the majority of ...</td>\n",
              "      <td>Insufficient data for further analysis, please...</td>\n",
              "      <td>[Waleed Kadous, Anyscale, Chief Scientist \\n \\...</td>\n",
              "      <td>Western Europe, China, Brazil, Australia, Cana...</td>\n",
              "      <td>0.000000</td>\n",
              "      <td>0.000000</td>\n",
              "      <td>0.000000</td>\n",
              "      <td>0.0</td>\n",
              "      <td>0.180934</td>\n",
              "    </tr>\n",
              "    <tr>\n",
              "      <th>7</th>\n",
              "      <td>What is the classification of assets based on ...</td>\n",
              "      <td>The fair value measurement at the reporting da...</td>\n",
              "      <td>[metrics and how to align them with organizati...</td>\n",
              "      <td>The classification of assets based on unobserv...</td>\n",
              "      <td>1.000000</td>\n",
              "      <td>0.702955</td>\n",
              "      <td>0.000000</td>\n",
              "      <td>0.0</td>\n",
              "      <td>0.661322</td>\n",
              "    </tr>\n",
              "    <tr>\n",
              "      <th>8</th>\n",
              "      <td>How does the adoption of new technologies affe...</td>\n",
              "      <td>Based on the provided context, the adoption of...</td>\n",
              "      <td>[Mike Hansen, Sonatype, SVP of Engineering \\n ...</td>\n",
              "      <td>The adoption of new technologies can lead to t...</td>\n",
              "      <td>1.000000</td>\n",
              "      <td>0.933377</td>\n",
              "      <td>0.000000</td>\n",
              "      <td>0.0</td>\n",
              "      <td>0.669317</td>\n",
              "    </tr>\n",
              "    <tr>\n",
              "      <th>9</th>\n",
              "      <td>What role do the bylaws play in potentially ma...</td>\n",
              "      <td>In the context provided, there is no specific ...</td>\n",
              "      <td>[are the only way to ensure proper decentraliz...</td>\n",
              "      <td>The bylaws could potentially make a merger, te...</td>\n",
              "      <td>1.000000</td>\n",
              "      <td>0.718414</td>\n",
              "      <td>1.000000</td>\n",
              "      <td>0.0</td>\n",
              "      <td>0.206138</td>\n",
              "    </tr>\n",
              "    <tr>\n",
              "      <th>10</th>\n",
              "      <td>What are the changes brought by ASU No. 2023-0...</td>\n",
              "      <td>The ASU No. 2023-09, issued by the FASB, bring...</td>\n",
              "      <td>[• \\nIn-Person/Virtual Virtual \\n12:00pm PST \\...</td>\n",
              "      <td>nan</td>\n",
              "      <td>1.000000</td>\n",
              "      <td>0.945611</td>\n",
              "      <td>0.000000</td>\n",
              "      <td>0.0</td>\n",
              "      <td>0.182947</td>\n",
              "    </tr>\n",
              "    <tr>\n",
              "      <th>11</th>\n",
              "      <td>How does the CEO, who is also the CODM, manage...</td>\n",
              "      <td>Insufficient data for further analysis, please...</td>\n",
              "      <td>[Noam Levy, Activefence, Software Engineer, Da...</td>\n",
              "      <td>The CEO, who is also the CODM, manages the bus...</td>\n",
              "      <td>NaN</td>\n",
              "      <td>0.751139</td>\n",
              "      <td>0.000000</td>\n",
              "      <td>1.0</td>\n",
              "      <td>0.174604</td>\n",
              "    </tr>\n",
              "    <tr>\n",
              "      <th>12</th>\n",
              "      <td>What is the authorized number of shares for Cl...</td>\n",
              "      <td>Insufficient data for further analysis, please...</td>\n",
              "      <td>[Wednesday February 28, 2024 3:00pm - 3:25pm P...</td>\n",
              "      <td>5,000 million shares of Class A common stock a...</td>\n",
              "      <td>NaN</td>\n",
              "      <td>0.000000</td>\n",
              "      <td>1.000000</td>\n",
              "      <td>0.0</td>\n",
              "      <td>0.177550</td>\n",
              "    </tr>\n",
              "    <tr>\n",
              "      <th>13</th>\n",
              "      <td>What was Meta Platforms, Inc.'s opinion on its...</td>\n",
              "      <td>Insufficient data for further analysis, please...</td>\n",
              "      <td>[Thursday February 22, 2024 9:30am - 9:55am PS...</td>\n",
              "      <td>Meta Platforms, Inc. maintained effective inte...</td>\n",
              "      <td>NaN</td>\n",
              "      <td>0.769828</td>\n",
              "      <td>0.000000</td>\n",
              "      <td>0.0</td>\n",
              "      <td>0.180546</td>\n",
              "    </tr>\n",
              "    <tr>\n",
              "      <th>14</th>\n",
              "      <td>How does the company estimate the number of us...</td>\n",
              "      <td>To estimate the number of users of their produ...</td>\n",
              "      <td>[product phases of early stage, limited availa...</td>\n",
              "      <td>We estimate the number of users of our product...</td>\n",
              "      <td>1.000000</td>\n",
              "      <td>0.783117</td>\n",
              "      <td>1.000000</td>\n",
              "      <td>0.5</td>\n",
              "      <td>0.256211</td>\n",
              "    </tr>\n",
              "    <tr>\n",
              "      <th>15</th>\n",
              "      <td>How is user data privacy assessed and managed ...</td>\n",
              "      <td>Based on the provided context, here is the inf...</td>\n",
              "      <td>[into ethical A/B testing practices, including...</td>\n",
              "      <td>User data privacy is assessed and managed with...</td>\n",
              "      <td>0.888889</td>\n",
              "      <td>0.733356</td>\n",
              "      <td>0.714286</td>\n",
              "      <td>1.0</td>\n",
              "      <td>0.401317</td>\n",
              "    </tr>\n",
              "    <tr>\n",
              "      <th>16</th>\n",
              "      <td>What factors are considered for accounts recei...</td>\n",
              "      <td>The provided context does not contain informat...</td>\n",
              "      <td>[• \\nIn-Person/Virtual In Person \\n11:00am PST...</td>\n",
              "      <td>Factors considered for accounts receivable all...</td>\n",
              "      <td>NaN</td>\n",
              "      <td>0.000000</td>\n",
              "      <td>0.000000</td>\n",
              "      <td>0.0</td>\n",
              "      <td>0.210139</td>\n",
              "    </tr>\n",
              "    <tr>\n",
              "      <th>17</th>\n",
              "      <td>What is the value of restricted cash equivalen...</td>\n",
              "      <td>Insufficient data for further analysis, please...</td>\n",
              "      <td>[Friday February 23, 2024 2:00pm - 2:15pm PST ...</td>\n",
              "      <td>857</td>\n",
              "      <td>NaN</td>\n",
              "      <td>0.724698</td>\n",
              "      <td>0.000000</td>\n",
              "      <td>0.0</td>\n",
              "      <td>0.188066</td>\n",
              "    </tr>\n",
              "    <tr>\n",
              "      <th>18</th>\n",
              "      <td>What decision did the IDPC make about Meta Pla...</td>\n",
              "      <td>Insufficient data for further analysis, please...</td>\n",
              "      <td>[Mihaela is an Associate Director at SDC Lisbo...</td>\n",
              "      <td>On May 12, 2023, the IDPC issued a Final Decis...</td>\n",
              "      <td>NaN</td>\n",
              "      <td>0.764733</td>\n",
              "      <td>1.000000</td>\n",
              "      <td>0.0</td>\n",
              "      <td>0.186295</td>\n",
              "    </tr>\n",
              "    <tr>\n",
              "      <th>19</th>\n",
              "      <td>What was the price range of our Class A common...</td>\n",
              "      <td>Insufficient data for further analysis, please...</td>\n",
              "      <td>[Thursday February 22, 2024 9:30am - 9:55am PS...</td>\n",
              "      <td>The trading price of our Class A common stock ...</td>\n",
              "      <td>0.000000</td>\n",
              "      <td>0.721004</td>\n",
              "      <td>0.000000</td>\n",
              "      <td>0.0</td>\n",
              "      <td>0.173892</td>\n",
              "    </tr>\n",
              "  </tbody>\n",
              "</table>\n",
              "</div>"
            ],
            "text/plain": [
              "                                             question  \\\n",
              "0   What was the outcome of the cancellation of mu...   \n",
              "1   What was the price per share of our Class A co...   \n",
              "2   What is the amount of retained earnings as of ...   \n",
              "3   What is the responsibility of management in re...   \n",
              "4   What limitations would the company face if the...   \n",
              "5   What is an example of a situation where a chan...   \n",
              "6   What countries contributed to the majority of ...   \n",
              "7   What is the classification of assets based on ...   \n",
              "8   How does the adoption of new technologies affe...   \n",
              "9   What role do the bylaws play in potentially ma...   \n",
              "10  What are the changes brought by ASU No. 2023-0...   \n",
              "11  How does the CEO, who is also the CODM, manage...   \n",
              "12  What is the authorized number of shares for Cl...   \n",
              "13  What was Meta Platforms, Inc.'s opinion on its...   \n",
              "14  How does the company estimate the number of us...   \n",
              "15  How is user data privacy assessed and managed ...   \n",
              "16  What factors are considered for accounts recei...   \n",
              "17  What is the value of restricted cash equivalen...   \n",
              "18  What decision did the IDPC make about Meta Pla...   \n",
              "19  What was the price range of our Class A common...   \n",
              "\n",
              "                                               answer  \\\n",
              "0   The outcome of the cancellation of multiple da...   \n",
              "1   Insufficient data for further analysis, please...   \n",
              "2   Insufficient data for further analysis, please...   \n",
              "3   In the context provided, the responsibility of...   \n",
              "4   Based on the provided context, the document do...   \n",
              "5   A change in accounting principles would not be...   \n",
              "6   Insufficient data for further analysis, please...   \n",
              "7   The fair value measurement at the reporting da...   \n",
              "8   Based on the provided context, the adoption of...   \n",
              "9   In the context provided, there is no specific ...   \n",
              "10  The ASU No. 2023-09, issued by the FASB, bring...   \n",
              "11  Insufficient data for further analysis, please...   \n",
              "12  Insufficient data for further analysis, please...   \n",
              "13  Insufficient data for further analysis, please...   \n",
              "14  To estimate the number of users of their produ...   \n",
              "15  Based on the provided context, here is the inf...   \n",
              "16  The provided context does not contain informat...   \n",
              "17  Insufficient data for further analysis, please...   \n",
              "18  Insufficient data for further analysis, please...   \n",
              "19  Insufficient data for further analysis, please...   \n",
              "\n",
              "                                             contexts  \\\n",
              "0   [• \\nIn-Person/Virtual Virtual \\n3:00pm PST \\n...   \n",
              "1   [Thursday February 22, 2024 9:30am - 9:55am PS...   \n",
              "2   [Thursday February 22, 2024 9:30am - 9:55am PS...   \n",
              "3   [into ethical A/B testing practices, including...   \n",
              "4   [There are 3 learning outcomes: \\n-Identify wh...   \n",
              "5   [3:30pm PST \\n[Virtual] PRO TALK: Restate: Dur...   \n",
              "6   [Waleed Kadous, Anyscale, Chief Scientist \\n \\...   \n",
              "7   [metrics and how to align them with organizati...   \n",
              "8   [Mike Hansen, Sonatype, SVP of Engineering \\n ...   \n",
              "9   [are the only way to ensure proper decentraliz...   \n",
              "10  [• \\nIn-Person/Virtual Virtual \\n12:00pm PST \\...   \n",
              "11  [Noam Levy, Activefence, Software Engineer, Da...   \n",
              "12  [Wednesday February 28, 2024 3:00pm - 3:25pm P...   \n",
              "13  [Thursday February 22, 2024 9:30am - 9:55am PS...   \n",
              "14  [product phases of early stage, limited availa...   \n",
              "15  [into ethical A/B testing practices, including...   \n",
              "16  [• \\nIn-Person/Virtual In Person \\n11:00am PST...   \n",
              "17  [Friday February 23, 2024 2:00pm - 2:15pm PST ...   \n",
              "18  [Mihaela is an Associate Director at SDC Lisbo...   \n",
              "19  [Thursday February 22, 2024 9:30am - 9:55am PS...   \n",
              "\n",
              "                                         ground_truth  faithfulness  \\\n",
              "0   The outcome of the cancellation of multiple da...           NaN   \n",
              "1                                    $38.00 per share           NaN   \n",
              "2                                              82,070      0.000000   \n",
              "3   Our management is responsible for establishing...      1.000000   \n",
              "4   If the proposed order by the FTC is imposed in...           NaN   \n",
              "5   An example of a situation where a change in ac...      1.000000   \n",
              "6   Western Europe, China, Brazil, Australia, Cana...      0.000000   \n",
              "7   The classification of assets based on unobserv...      1.000000   \n",
              "8   The adoption of new technologies can lead to t...      1.000000   \n",
              "9   The bylaws could potentially make a merger, te...      1.000000   \n",
              "10                                                nan      1.000000   \n",
              "11  The CEO, who is also the CODM, manages the bus...           NaN   \n",
              "12  5,000 million shares of Class A common stock a...           NaN   \n",
              "13  Meta Platforms, Inc. maintained effective inte...           NaN   \n",
              "14  We estimate the number of users of our product...      1.000000   \n",
              "15  User data privacy is assessed and managed with...      0.888889   \n",
              "16  Factors considered for accounts receivable all...           NaN   \n",
              "17                                                857           NaN   \n",
              "18  On May 12, 2023, the IDPC issued a Final Decis...           NaN   \n",
              "19  The trading price of our Class A common stock ...      0.000000   \n",
              "\n",
              "    answer_relevancy  context_recall  context_precision  answer_correctness  \n",
              "0           0.000000        0.000000                0.0            0.215985  \n",
              "1           0.725214        0.000000                0.0            0.181676  \n",
              "2           0.753913        0.000000                0.0            0.186236  \n",
              "3           0.962858        1.000000                0.0            0.713485  \n",
              "4           0.000000        1.000000                0.0            0.219077  \n",
              "5           0.761663        0.000000                0.0            0.830095  \n",
              "6           0.000000        0.000000                0.0            0.180934  \n",
              "7           0.702955        0.000000                0.0            0.661322  \n",
              "8           0.933377        0.000000                0.0            0.669317  \n",
              "9           0.718414        1.000000                0.0            0.206138  \n",
              "10          0.945611        0.000000                0.0            0.182947  \n",
              "11          0.751139        0.000000                1.0            0.174604  \n",
              "12          0.000000        1.000000                0.0            0.177550  \n",
              "13          0.769828        0.000000                0.0            0.180546  \n",
              "14          0.783117        1.000000                0.5            0.256211  \n",
              "15          0.733356        0.714286                1.0            0.401317  \n",
              "16          0.000000        0.000000                0.0            0.210139  \n",
              "17          0.724698        0.000000                0.0            0.188066  \n",
              "18          0.764733        1.000000                0.0            0.186295  \n",
              "19          0.721004        0.000000                0.0            0.173892  "
            ]
          },
          "execution_count": 39,
          "metadata": {},
          "output_type": "execute_result"
        }
      ],
      "source": [
        "results_df = results.to_pandas()\n",
        "results_df"
      ]
    },
    {
      "cell_type": "markdown",
      "metadata": {},
      "source": [
        "### BASELINE RAGAS SCORE\n",
        "WOW! Pretty impressive score:\n",
        "\n",
        "faithfulness: 0.9444\n",
        "\n",
        "answer_relevancy: 0.9466\n",
        "\n",
        "context_recall: 0.9444\n",
        "\n",
        "context_precision: 0.9244\n",
        "\n",
        "answer_correctness: 0.6659\n",
        "\n",
        "The only are for improvement would be in the \"answer correctness\"\n"
      ]
    },
    {
      "cell_type": "markdown",
      "metadata": {},
      "source": [
        "### Changing the Retreiver\n",
        "Changing the retreiver may help.  Looks like there are many from LangChain and 3rd party, or even roll my own.\n",
        "It would be cool to leverage the ideas from the paper: \"Dense Passage Retrieval for Open-Domain Question Answering\" and build a new retriever, but for now, I'll settle on using Multi-Query Retriever from LangChain."
      ]
    },
    {
      "cell_type": "code",
      "execution_count": 41,
      "metadata": {},
      "outputs": [],
      "source": [
        "from langchain.retrievers import MultiQueryRetriever\n",
        "\n",
        "advanced_retriever = MultiQueryRetriever.from_llm(retriever=qdrant_retriever, llm=openai_chat_model)"
      ]
    },
    {
      "cell_type": "code",
      "execution_count": 42,
      "metadata": {},
      "outputs": [],
      "source": [
        "# Need to experiment on using this prompt, or the original one\n",
        "from langchain import hub\n",
        "\n",
        "retrieval_qa_prompt = hub.pull(\"langchain-ai/retrieval-qa-chat\")"
      ]
    },
    {
      "cell_type": "code",
      "execution_count": 43,
      "metadata": {},
      "outputs": [
        {
          "name": "stdout",
          "output_type": "stream",
          "text": [
            "Answer any use questions based solely on the context below:\n",
            "\n",
            "<context>\n",
            "{context}\n",
            "</context>\n"
          ]
        }
      ],
      "source": [
        "print(retrieval_qa_prompt.messages[0].prompt.template)"
      ]
    },
    {
      "cell_type": "code",
      "execution_count": 44,
      "metadata": {},
      "outputs": [],
      "source": [
        "from langchain.chains.combine_documents import create_stuff_documents_chain\n",
        "\n",
        "document_chain = create_stuff_documents_chain(openai_chat_model, retrieval_qa_prompt)"
      ]
    },
    {
      "cell_type": "code",
      "execution_count": 45,
      "metadata": {},
      "outputs": [],
      "source": [
        "from langchain.chains import create_retrieval_chain\n",
        "\n",
        "retrieval_chain = create_retrieval_chain(advanced_retriever, document_chain)"
      ]
    },
    {
      "cell_type": "code",
      "execution_count": 46,
      "metadata": {},
      "outputs": [
        {
          "name": "stdout",
          "output_type": "stream",
          "text": [
            "The conference is about driving software product design to new heights of innovation. It focuses on topics such as user-centered design, agile and lean methodologies, balancing creativity with practicality, cross-functional collaboration, embracing emerging technologies, ethical considerations, and measuring impact. Industry leaders, innovators, and thought leaders come together to share insights, strategies, and best practices for revolutionary software product design.\n"
          ]
        }
      ],
      "source": [
        "response = retrieval_chain.invoke({\"input\": \"What is the conference about?\"})\n",
        "print(response[\"answer\"])"
      ]
    },
    {
      "cell_type": "markdown",
      "metadata": {},
      "source": [
        "OK, looks good, lets Eval with Ragas"
      ]
    },
    {
      "cell_type": "code",
      "execution_count": 47,
      "metadata": {},
      "outputs": [],
      "source": [
        "answers = []\n",
        "contexts = []\n",
        "\n",
        "for question in test_questions:\n",
        "  response = retrieval_chain.invoke({\"input\" : question})\n",
        "  answers.append(response[\"answer\"])\n",
        "  contexts.append([context.page_content for context in response[\"context\"]])\n",
        "\n"
      ]
    },
    {
      "cell_type": "code",
      "execution_count": null,
      "metadata": {},
      "outputs": [],
      "source": [
        "response_dataset_advanced_retrieval = Dataset.from_dict({\n",
        "    \"question\" : test_questions,\n",
        "    \"answer\" : answers,\n",
        "    \"contexts\" : contexts,\n",
        "    \"ground_truth\" : test_groundtruths\n",
        "})"
      ]
    },
    {
      "cell_type": "markdown",
      "metadata": {},
      "source": [
        "Time to Evaluate"
      ]
    },
    {
      "cell_type": "code",
      "execution_count": null,
      "metadata": {},
      "outputs": [
        {
          "data": {
            "application/vnd.jupyter.widget-view+json": {
              "model_id": "142e63a233184caa89e216901486b91d",
              "version_major": 2,
              "version_minor": 0
            },
            "text/plain": [
              "Evaluating:   0%|          | 0/90 [00:00<?, ?it/s]"
            ]
          },
          "metadata": {},
          "output_type": "display_data"
        }
      ],
      "source": [
        "advanced_retrieval_results = evaluate(response_dataset_advanced_retrieval, metrics)"
      ]
    },
    {
      "cell_type": "code",
      "execution_count": null,
      "metadata": {},
      "outputs": [
        {
          "data": {
            "text/html": [
              "<div>\n",
              "<style scoped>\n",
              "    .dataframe tbody tr th:only-of-type {\n",
              "        vertical-align: middle;\n",
              "    }\n",
              "\n",
              "    .dataframe tbody tr th {\n",
              "        vertical-align: top;\n",
              "    }\n",
              "\n",
              "    .dataframe thead th {\n",
              "        text-align: right;\n",
              "    }\n",
              "</style>\n",
              "<table border=\"1\" class=\"dataframe\">\n",
              "  <thead>\n",
              "    <tr style=\"text-align: right;\">\n",
              "      <th></th>\n",
              "      <th>question</th>\n",
              "      <th>answer</th>\n",
              "      <th>contexts</th>\n",
              "      <th>ground_truth</th>\n",
              "      <th>faithfulness</th>\n",
              "      <th>answer_relevancy</th>\n",
              "      <th>context_recall</th>\n",
              "      <th>context_precision</th>\n",
              "      <th>answer_correctness</th>\n",
              "    </tr>\n",
              "  </thead>\n",
              "  <tbody>\n",
              "    <tr>\n",
              "      <th>0</th>\n",
              "      <td>What were the outcomes of the 2022 Restructuri...</td>\n",
              "      <td>As of December 31, 2023, the outcomes of the 2...</td>\n",
              "      <td>[(the 2022 Restructuring). As of December 31, ...</td>\n",
              "      <td>The outcomes of the 2022 Restructuring include...</td>\n",
              "      <td>0.50</td>\n",
              "      <td>0.901826</td>\n",
              "      <td>1.0</td>\n",
              "      <td>0.916667</td>\n",
              "      <td>0.989179</td>\n",
              "    </tr>\n",
              "    <tr>\n",
              "      <th>1</th>\n",
              "      <td>How could changes in tax laws and regulations ...</td>\n",
              "      <td>Changes in tax laws and regulations could mate...</td>\n",
              "      <td>[Table of Contents\\nOur future income tax rate...</td>\n",
              "      <td>Changes in tax laws or tax rulings could mater...</td>\n",
              "      <td>1.00</td>\n",
              "      <td>0.916948</td>\n",
              "      <td>1.0</td>\n",
              "      <td>1.000000</td>\n",
              "      <td>0.484104</td>\n",
              "    </tr>\n",
              "    <tr>\n",
              "      <th>2</th>\n",
              "      <td>What is the authorized number of shares for Cl...</td>\n",
              "      <td>The company is authorized to issue 5,000 milli...</td>\n",
              "      <td>[Table of Contents\\nNote 13. Stockholders' Equ...</td>\n",
              "      <td>5,000 million shares of Class A common stock a...</td>\n",
              "      <td>1.00</td>\n",
              "      <td>0.932821</td>\n",
              "      <td>1.0</td>\n",
              "      <td>0.916667</td>\n",
              "      <td>0.990243</td>\n",
              "    </tr>\n",
              "    <tr>\n",
              "      <th>3</th>\n",
              "      <td>What are the penalties for non-compliance with...</td>\n",
              "      <td>The European General Data Protection Regulatio...</td>\n",
              "      <td>[Table of Contents\\nconsiderable uncertainty a...</td>\n",
              "      <td>The GDPR includes significant penalties for no...</td>\n",
              "      <td>0.50</td>\n",
              "      <td>0.000000</td>\n",
              "      <td>1.0</td>\n",
              "      <td>0.833333</td>\n",
              "      <td>0.612189</td>\n",
              "    </tr>\n",
              "    <tr>\n",
              "      <th>4</th>\n",
              "      <td>What are the potential limitations and consequ...</td>\n",
              "      <td>The proposed consent order could limit the abi...</td>\n",
              "      <td>[the composition of our board of directors, an...</td>\n",
              "      <td>If the proposed consent order is imposed in it...</td>\n",
              "      <td>1.00</td>\n",
              "      <td>0.951031</td>\n",
              "      <td>1.0</td>\n",
              "      <td>1.000000</td>\n",
              "      <td>0.865745</td>\n",
              "    </tr>\n",
              "    <tr>\n",
              "      <th>5</th>\n",
              "      <td>What is considered a material misstatement acc...</td>\n",
              "      <td>According to the given context, an error in th...</td>\n",
              "      <td>[(h) “Financial Restatement” means a restateme...</td>\n",
              "      <td>An error that would result in a material misst...</td>\n",
              "      <td>1.00</td>\n",
              "      <td>0.956192</td>\n",
              "      <td>1.0</td>\n",
              "      <td>0.950000</td>\n",
              "      <td>0.735095</td>\n",
              "    </tr>\n",
              "    <tr>\n",
              "      <th>6</th>\n",
              "      <td>Where did a majority of the revenue outside of...</td>\n",
              "      <td>A majority of the revenue outside of the Unite...</td>\n",
              "      <td>[$\\n50,150 \\n$\\n51,541 \\nEurope \\n31,210 \\n26,...</td>\n",
              "      <td>Customers located in western Europe, China, Br...</td>\n",
              "      <td>0.50</td>\n",
              "      <td>1.000000</td>\n",
              "      <td>0.0</td>\n",
              "      <td>0.770833</td>\n",
              "      <td>0.586519</td>\n",
              "    </tr>\n",
              "    <tr>\n",
              "      <th>7</th>\n",
              "      <td>What is the significance of quoted prices in a...</td>\n",
              "      <td>Quoted prices in active markets play a signifi...</td>\n",
              "      <td>[required to be recorded at fair value, we con...</td>\n",
              "      <td>The significance of quoted prices in active ma...</td>\n",
              "      <td>1.00</td>\n",
              "      <td>0.967192</td>\n",
              "      <td>1.0</td>\n",
              "      <td>1.000000</td>\n",
              "      <td>0.881835</td>\n",
              "    </tr>\n",
              "    <tr>\n",
              "      <th>8</th>\n",
              "      <td>How does the adoption of new technologies affe...</td>\n",
              "      <td>The adoption of new technologies increases our...</td>\n",
              "      <td>[products, and standards that we do not contro...</td>\n",
              "      <td>The adoption of new technologies can lead to t...</td>\n",
              "      <td>1.00</td>\n",
              "      <td>0.942882</td>\n",
              "      <td>1.0</td>\n",
              "      <td>0.667857</td>\n",
              "      <td>0.719509</td>\n",
              "    </tr>\n",
              "    <tr>\n",
              "      <th>9</th>\n",
              "      <td>How does Delaware law and its anti-takeover pr...</td>\n",
              "      <td>Delaware law and its anti-takeover provisions ...</td>\n",
              "      <td>[controlled company could make our Class A com...</td>\n",
              "      <td>Delaware law and its anti-takeover provisions ...</td>\n",
              "      <td>1.00</td>\n",
              "      <td>0.902979</td>\n",
              "      <td>1.0</td>\n",
              "      <td>1.000000</td>\n",
              "      <td>0.675830</td>\n",
              "    </tr>\n",
              "    <tr>\n",
              "      <th>10</th>\n",
              "      <td>What was Meta Platforms, Inc.'s opinion on its...</td>\n",
              "      <td>Meta Platforms, Inc.'s opinion on its internal...</td>\n",
              "      <td>[Table of Contents\\nReport of Independent Regi...</td>\n",
              "      <td>Meta Platforms, Inc. maintained effective inte...</td>\n",
              "      <td>0.75</td>\n",
              "      <td>0.963244</td>\n",
              "      <td>1.0</td>\n",
              "      <td>0.950000</td>\n",
              "      <td>0.743482</td>\n",
              "    </tr>\n",
              "    <tr>\n",
              "      <th>11</th>\n",
              "      <td>What has been the fluctuation in the trading p...</td>\n",
              "      <td>Since the initial public offering in May 2012 ...</td>\n",
              "      <td>[our initial public offering in May 2012 at a ...</td>\n",
              "      <td>The trading price of our Class A common stock ...</td>\n",
              "      <td>1.00</td>\n",
              "      <td>0.938941</td>\n",
              "      <td>1.0</td>\n",
              "      <td>1.000000</td>\n",
              "      <td>0.672769</td>\n",
              "    </tr>\n",
              "    <tr>\n",
              "      <th>12</th>\n",
              "      <td>What is the maximum number of authorized share...</td>\n",
              "      <td>The maximum number of authorized shares for Cl...</td>\n",
              "      <td>[Table of Contents\\nNote 13. Stockholders' Equ...</td>\n",
              "      <td>4,141 million</td>\n",
              "      <td>1.00</td>\n",
              "      <td>0.967615</td>\n",
              "      <td>1.0</td>\n",
              "      <td>0.916667</td>\n",
              "      <td>0.702529</td>\n",
              "    </tr>\n",
              "    <tr>\n",
              "      <th>13</th>\n",
              "      <td>What is the role of the Compensation, Nominati...</td>\n",
              "      <td>The Compensation, Nominating &amp; Governance Comm...</td>\n",
              "      <td>[and authority to (i) administer and interpret...</td>\n",
              "      <td>The Compensation, Nominating &amp; Governance Comm...</td>\n",
              "      <td>1.00</td>\n",
              "      <td>0.800896</td>\n",
              "      <td>1.0</td>\n",
              "      <td>1.000000</td>\n",
              "      <td>0.785188</td>\n",
              "    </tr>\n",
              "    <tr>\n",
              "      <th>14</th>\n",
              "      <td>What is the purpose of our privacy risk manage...</td>\n",
              "      <td>The purpose of our privacy risk management pro...</td>\n",
              "      <td>[to mitigate cybersecurity risk. However, at a...</td>\n",
              "      <td>The purpose of our privacy risk management pro...</td>\n",
              "      <td>1.00</td>\n",
              "      <td>0.936471</td>\n",
              "      <td>1.0</td>\n",
              "      <td>1.000000</td>\n",
              "      <td>0.786643</td>\n",
              "    </tr>\n",
              "    <tr>\n",
              "      <th>15</th>\n",
              "      <td>What are the potential risks to our financial ...</td>\n",
              "      <td>Potential risks to the financial condition of ...</td>\n",
              "      <td>[Table of Contents\\nItem 1A. Risk Factors\\nCer...</td>\n",
              "      <td>Our business is subject to a number of risks, ...</td>\n",
              "      <td>1.00</td>\n",
              "      <td>0.922386</td>\n",
              "      <td>1.0</td>\n",
              "      <td>0.833333</td>\n",
              "      <td>0.905674</td>\n",
              "    </tr>\n",
              "    <tr>\n",
              "      <th>16</th>\n",
              "      <td>What factors affect our ability to attract and...</td>\n",
              "      <td>Factors that affect our ability to attract and...</td>\n",
              "      <td>[current scale of our business, which makes it...</td>\n",
              "      <td>Our ability to attract and retain marketers du...</td>\n",
              "      <td>1.00</td>\n",
              "      <td>0.963235</td>\n",
              "      <td>1.0</td>\n",
              "      <td>1.000000</td>\n",
              "      <td>0.541898</td>\n",
              "    </tr>\n",
              "    <tr>\n",
              "      <th>17</th>\n",
              "      <td>What are the consequences of claims and govern...</td>\n",
              "      <td>The consequences of claims and government inqu...</td>\n",
              "      <td>[Table of Contents\\nThese laws and regulations...</td>\n",
              "      <td>We may incur liability as a result of informat...</td>\n",
              "      <td>1.00</td>\n",
              "      <td>0.997250</td>\n",
              "      <td>1.0</td>\n",
              "      <td>1.000000</td>\n",
              "      <td>0.847905</td>\n",
              "    </tr>\n",
              "  </tbody>\n",
              "</table>\n",
              "</div>"
            ],
            "text/plain": [
              "                                             question  \\\n",
              "0   What were the outcomes of the 2022 Restructuri...   \n",
              "1   How could changes in tax laws and regulations ...   \n",
              "2   What is the authorized number of shares for Cl...   \n",
              "3   What are the penalties for non-compliance with...   \n",
              "4   What are the potential limitations and consequ...   \n",
              "5   What is considered a material misstatement acc...   \n",
              "6   Where did a majority of the revenue outside of...   \n",
              "7   What is the significance of quoted prices in a...   \n",
              "8   How does the adoption of new technologies affe...   \n",
              "9   How does Delaware law and its anti-takeover pr...   \n",
              "10  What was Meta Platforms, Inc.'s opinion on its...   \n",
              "11  What has been the fluctuation in the trading p...   \n",
              "12  What is the maximum number of authorized share...   \n",
              "13  What is the role of the Compensation, Nominati...   \n",
              "14  What is the purpose of our privacy risk manage...   \n",
              "15  What are the potential risks to our financial ...   \n",
              "16  What factors affect our ability to attract and...   \n",
              "17  What are the consequences of claims and govern...   \n",
              "\n",
              "                                               answer  \\\n",
              "0   As of December 31, 2023, the outcomes of the 2...   \n",
              "1   Changes in tax laws and regulations could mate...   \n",
              "2   The company is authorized to issue 5,000 milli...   \n",
              "3   The European General Data Protection Regulatio...   \n",
              "4   The proposed consent order could limit the abi...   \n",
              "5   According to the given context, an error in th...   \n",
              "6   A majority of the revenue outside of the Unite...   \n",
              "7   Quoted prices in active markets play a signifi...   \n",
              "8   The adoption of new technologies increases our...   \n",
              "9   Delaware law and its anti-takeover provisions ...   \n",
              "10  Meta Platforms, Inc.'s opinion on its internal...   \n",
              "11  Since the initial public offering in May 2012 ...   \n",
              "12  The maximum number of authorized shares for Cl...   \n",
              "13  The Compensation, Nominating & Governance Comm...   \n",
              "14  The purpose of our privacy risk management pro...   \n",
              "15  Potential risks to the financial condition of ...   \n",
              "16  Factors that affect our ability to attract and...   \n",
              "17  The consequences of claims and government inqu...   \n",
              "\n",
              "                                             contexts  \\\n",
              "0   [(the 2022 Restructuring). As of December 31, ...   \n",
              "1   [Table of Contents\\nOur future income tax rate...   \n",
              "2   [Table of Contents\\nNote 13. Stockholders' Equ...   \n",
              "3   [Table of Contents\\nconsiderable uncertainty a...   \n",
              "4   [the composition of our board of directors, an...   \n",
              "5   [(h) “Financial Restatement” means a restateme...   \n",
              "6   [$\\n50,150 \\n$\\n51,541 \\nEurope \\n31,210 \\n26,...   \n",
              "7   [required to be recorded at fair value, we con...   \n",
              "8   [products, and standards that we do not contro...   \n",
              "9   [controlled company could make our Class A com...   \n",
              "10  [Table of Contents\\nReport of Independent Regi...   \n",
              "11  [our initial public offering in May 2012 at a ...   \n",
              "12  [Table of Contents\\nNote 13. Stockholders' Equ...   \n",
              "13  [and authority to (i) administer and interpret...   \n",
              "14  [to mitigate cybersecurity risk. However, at a...   \n",
              "15  [Table of Contents\\nItem 1A. Risk Factors\\nCer...   \n",
              "16  [current scale of our business, which makes it...   \n",
              "17  [Table of Contents\\nThese laws and regulations...   \n",
              "\n",
              "                                         ground_truth  faithfulness  \\\n",
              "0   The outcomes of the 2022 Restructuring include...          0.50   \n",
              "1   Changes in tax laws or tax rulings could mater...          1.00   \n",
              "2   5,000 million shares of Class A common stock a...          1.00   \n",
              "3   The GDPR includes significant penalties for no...          0.50   \n",
              "4   If the proposed consent order is imposed in it...          1.00   \n",
              "5   An error that would result in a material misst...          1.00   \n",
              "6   Customers located in western Europe, China, Br...          0.50   \n",
              "7   The significance of quoted prices in active ma...          1.00   \n",
              "8   The adoption of new technologies can lead to t...          1.00   \n",
              "9   Delaware law and its anti-takeover provisions ...          1.00   \n",
              "10  Meta Platforms, Inc. maintained effective inte...          0.75   \n",
              "11  The trading price of our Class A common stock ...          1.00   \n",
              "12                                      4,141 million          1.00   \n",
              "13  The Compensation, Nominating & Governance Comm...          1.00   \n",
              "14  The purpose of our privacy risk management pro...          1.00   \n",
              "15  Our business is subject to a number of risks, ...          1.00   \n",
              "16  Our ability to attract and retain marketers du...          1.00   \n",
              "17  We may incur liability as a result of informat...          1.00   \n",
              "\n",
              "    answer_relevancy  context_recall  context_precision  answer_correctness  \n",
              "0           0.901826             1.0           0.916667            0.989179  \n",
              "1           0.916948             1.0           1.000000            0.484104  \n",
              "2           0.932821             1.0           0.916667            0.990243  \n",
              "3           0.000000             1.0           0.833333            0.612189  \n",
              "4           0.951031             1.0           1.000000            0.865745  \n",
              "5           0.956192             1.0           0.950000            0.735095  \n",
              "6           1.000000             0.0           0.770833            0.586519  \n",
              "7           0.967192             1.0           1.000000            0.881835  \n",
              "8           0.942882             1.0           0.667857            0.719509  \n",
              "9           0.902979             1.0           1.000000            0.675830  \n",
              "10          0.963244             1.0           0.950000            0.743482  \n",
              "11          0.938941             1.0           1.000000            0.672769  \n",
              "12          0.967615             1.0           0.916667            0.702529  \n",
              "13          0.800896             1.0           1.000000            0.785188  \n",
              "14          0.936471             1.0           1.000000            0.786643  \n",
              "15          0.922386             1.0           0.833333            0.905674  \n",
              "16          0.963235             1.0           1.000000            0.541898  \n",
              "17          0.997250             1.0           1.000000            0.847905  "
            ]
          },
          "execution_count": 49,
          "metadata": {},
          "output_type": "execute_result"
        }
      ],
      "source": [
        "advanced_retrieval_results_df = advanced_retrieval_results.to_pandas()\n",
        "advanced_retrieval_results_df"
      ]
    },
    {
      "cell_type": "code",
      "execution_count": null,
      "metadata": {},
      "outputs": [
        {
          "data": {
            "text/plain": [
              "{'faithfulness': 0.9028, 'answer_relevancy': 0.8868, 'context_recall': 0.9444, 'context_precision': 0.9309, 'answer_correctness': 0.7515}"
            ]
          },
          "execution_count": 50,
          "metadata": {},
          "output_type": "execute_result"
        }
      ],
      "source": [
        "advanced_retrieval_results"
      ]
    },
    {
      "cell_type": "markdown",
      "metadata": {},
      "source": [
        "# W00T!\n",
        "Our answer correctness has improved and so has context precision!\n",
        "\n",
        "But at a cost to our faithfulness and answer relevancy.\n",
        "More research required!\n",
        "\n",
        "\n",
        "faithfulness: 0.9028 (- 0.416)\n",
        "\n",
        "answer_relevancy: 0.8868 (-0.598)\n",
        "\n",
        "context_recall: 0.9444 (No Change)\n",
        "\n",
        "context_precision: 0.9309 (+0.065)\n",
        "\n",
        "answer_correctness: 0.7515 (+0.856)\n"
      ]
    }
  ],
  "metadata": {
    "colab": {
      "provenance": []
    },
    "kernelspec": {
      "display_name": "Python 3",
      "name": "python3"
    },
    "language_info": {
      "codemirror_mode": {
        "name": "ipython",
        "version": 3
      },
      "file_extension": ".py",
      "mimetype": "text/x-python",
      "name": "python",
      "nbconvert_exporter": "python",
      "pygments_lexer": "ipython3",
      "version": "3.11.8"
    }
  },
  "nbformat": 4,
  "nbformat_minor": 0
}
